{
 "cells": [
  {
   "cell_type": "markdown",
   "metadata": {
    "id": "5k1-WYHSdcW4"
   },
   "source": [
    "## **Objective**\n",
    "  * **We are going to create our conversational AI, that will answer the questions based on the given data source (pdf, text, img, json)**"
   ]
  },
  {
   "cell_type": "markdown",
   "metadata": {
    "id": "Ft8l4ocfdtUx"
   },
   "source": [
    "### **RAG Application**\n",
    "  * **Load the data: Document Loader**\n",
    "  * **Split the data: Text Splitter**\n",
    "  * **Embed the data: Embedding Model**\n",
    "  * **Save the data into a DB: VectorDB (`Chroma` and PineCone)**\n",
    "<hr>\n",
    "  * **Setup LLM: ChatGPT (4o-mini, GPT-4)**\n",
    "  * **Prompt Engineering (To make sure the model works fine)**\n",
    "  * **Connect & Chain these all together: Chain**\n",
    "  * **Utilize the LLM: Test**\n",
    "<hr>\n",
    "  * **Interface for having results as output: Gradio**"
   ]
  },
  {
   "cell_type": "markdown",
   "metadata": {
    "id": "EfgIko6Ef5ab"
   },
   "source": [
    "# **Creation of our RAG Based System**\n"
   ]
  },
  {
   "cell_type": "markdown",
   "metadata": {
    "id": "vnTNI7NUf-FN"
   },
   "source": [
    "## **1. Requirement Gathering**\n",
    "\n",
    "* **Data Source: `plain text file`**\n",
    "* **Frameworks: `Langchain`**"
   ]
  },
  {
   "cell_type": "markdown",
   "metadata": {
    "id": "TmWhbDx-jJzy"
   },
   "source": [
    "#### **Installing the dependencies**"
   ]
  },
  {
   "cell_type": "code",
   "execution_count": null,
   "metadata": {
    "colab": {
     "base_uri": "https://localhost:8080/"
    },
    "id": "59cmvfIJdKjw",
    "outputId": "1ec277c5-cb52-4050-b989-e70bdf53eef6"
   },
   "outputs": [
    {
     "name": "stdout",
     "output_type": "stream",
     "text": [
      "Requirement already satisfied: langchain in /usr/local/lib/python3.11/dist-packages (0.3.21)\n",
      "Requirement already satisfied: langchain-community in /usr/local/lib/python3.11/dist-packages (0.3.20)\n",
      "Requirement already satisfied: langchain_openai in /usr/local/lib/python3.11/dist-packages (0.3.9)\n",
      "Requirement already satisfied: langchain_chroma in /usr/local/lib/python3.11/dist-packages (0.2.2)\n",
      "Requirement already satisfied: langchain-core<1.0.0,>=0.3.45 in /usr/local/lib/python3.11/dist-packages (from langchain) (0.3.45)\n",
      "Requirement already satisfied: langchain-text-splitters<1.0.0,>=0.3.7 in /usr/local/lib/python3.11/dist-packages (from langchain) (0.3.7)\n",
      "Requirement already satisfied: langsmith<0.4,>=0.1.17 in /usr/local/lib/python3.11/dist-packages (from langchain) (0.3.15)\n",
      "Requirement already satisfied: pydantic<3.0.0,>=2.7.4 in /usr/local/lib/python3.11/dist-packages (from langchain) (2.10.6)\n",
      "Requirement already satisfied: SQLAlchemy<3,>=1.4 in /usr/local/lib/python3.11/dist-packages (from langchain) (2.0.39)\n",
      "Requirement already satisfied: requests<3,>=2 in /usr/local/lib/python3.11/dist-packages (from langchain) (2.32.3)\n",
      "Requirement already satisfied: PyYAML>=5.3 in /usr/local/lib/python3.11/dist-packages (from langchain) (6.0.2)\n",
      "Requirement already satisfied: aiohttp<4.0.0,>=3.8.3 in /usr/local/lib/python3.11/dist-packages (from langchain-community) (3.11.14)\n",
      "Requirement already satisfied: tenacity!=8.4.0,<10,>=8.1.0 in /usr/local/lib/python3.11/dist-packages (from langchain-community) (9.0.0)\n",
      "Requirement already satisfied: dataclasses-json<0.7,>=0.5.7 in /usr/local/lib/python3.11/dist-packages (from langchain-community) (0.6.7)\n",
      "Requirement already satisfied: pydantic-settings<3.0.0,>=2.4.0 in /usr/local/lib/python3.11/dist-packages (from langchain-community) (2.8.1)\n",
      "Requirement already satisfied: httpx-sse<1.0.0,>=0.4.0 in /usr/local/lib/python3.11/dist-packages (from langchain-community) (0.4.0)\n",
      "Requirement already satisfied: numpy<3,>=1.26.2 in /usr/local/lib/python3.11/dist-packages (from langchain-community) (2.2.4)\n",
      "Requirement already satisfied: openai<2.0.0,>=1.66.3 in /usr/local/lib/python3.11/dist-packages (from langchain_openai) (1.66.3)\n",
      "Requirement already satisfied: tiktoken<1,>=0.7 in /usr/local/lib/python3.11/dist-packages (from langchain_openai) (0.9.0)\n",
      "Collecting numpy<3,>=1.26.2 (from langchain-community)\n",
      "  Using cached numpy-1.26.4-cp311-cp311-manylinux_2_17_x86_64.manylinux2014_x86_64.whl.metadata (61 kB)\n",
      "Requirement already satisfied: chromadb!=0.5.10,!=0.5.11,!=0.5.12,!=0.5.4,!=0.5.5,!=0.5.7,!=0.5.9,<0.7.0,>=0.4.0 in /usr/local/lib/python3.11/dist-packages (from langchain_chroma) (0.6.3)\n",
      "Requirement already satisfied: aiohappyeyeballs>=2.3.0 in /usr/local/lib/python3.11/dist-packages (from aiohttp<4.0.0,>=3.8.3->langchain-community) (2.6.1)\n",
      "Requirement already satisfied: aiosignal>=1.1.2 in /usr/local/lib/python3.11/dist-packages (from aiohttp<4.0.0,>=3.8.3->langchain-community) (1.3.2)\n",
      "Requirement already satisfied: attrs>=17.3.0 in /usr/local/lib/python3.11/dist-packages (from aiohttp<4.0.0,>=3.8.3->langchain-community) (25.3.0)\n",
      "Requirement already satisfied: frozenlist>=1.1.1 in /usr/local/lib/python3.11/dist-packages (from aiohttp<4.0.0,>=3.8.3->langchain-community) (1.5.0)\n",
      "Requirement already satisfied: multidict<7.0,>=4.5 in /usr/local/lib/python3.11/dist-packages (from aiohttp<4.0.0,>=3.8.3->langchain-community) (6.2.0)\n",
      "Requirement already satisfied: propcache>=0.2.0 in /usr/local/lib/python3.11/dist-packages (from aiohttp<4.0.0,>=3.8.3->langchain-community) (0.3.0)\n",
      "Requirement already satisfied: yarl<2.0,>=1.17.0 in /usr/local/lib/python3.11/dist-packages (from aiohttp<4.0.0,>=3.8.3->langchain-community) (1.18.3)\n",
      "Requirement already satisfied: build>=1.0.3 in /usr/local/lib/python3.11/dist-packages (from chromadb!=0.5.10,!=0.5.11,!=0.5.12,!=0.5.4,!=0.5.5,!=0.5.7,!=0.5.9,<0.7.0,>=0.4.0->langchain_chroma) (1.2.2.post1)\n",
      "Requirement already satisfied: chroma-hnswlib==0.7.6 in /usr/local/lib/python3.11/dist-packages (from chromadb!=0.5.10,!=0.5.11,!=0.5.12,!=0.5.4,!=0.5.5,!=0.5.7,!=0.5.9,<0.7.0,>=0.4.0->langchain_chroma) (0.7.6)\n",
      "Requirement already satisfied: fastapi>=0.95.2 in /usr/local/lib/python3.11/dist-packages (from chromadb!=0.5.10,!=0.5.11,!=0.5.12,!=0.5.4,!=0.5.5,!=0.5.7,!=0.5.9,<0.7.0,>=0.4.0->langchain_chroma) (0.115.11)\n",
      "Requirement already satisfied: uvicorn>=0.18.3 in /usr/local/lib/python3.11/dist-packages (from uvicorn[standard]>=0.18.3->chromadb!=0.5.10,!=0.5.11,!=0.5.12,!=0.5.4,!=0.5.5,!=0.5.7,!=0.5.9,<0.7.0,>=0.4.0->langchain_chroma) (0.34.0)\n",
      "Requirement already satisfied: posthog>=2.4.0 in /usr/local/lib/python3.11/dist-packages (from chromadb!=0.5.10,!=0.5.11,!=0.5.12,!=0.5.4,!=0.5.5,!=0.5.7,!=0.5.9,<0.7.0,>=0.4.0->langchain_chroma) (3.21.0)\n",
      "Requirement already satisfied: typing_extensions>=4.5.0 in /usr/local/lib/python3.11/dist-packages (from chromadb!=0.5.10,!=0.5.11,!=0.5.12,!=0.5.4,!=0.5.5,!=0.5.7,!=0.5.9,<0.7.0,>=0.4.0->langchain_chroma) (4.12.2)\n",
      "Requirement already satisfied: onnxruntime>=1.14.1 in /usr/local/lib/python3.11/dist-packages (from chromadb!=0.5.10,!=0.5.11,!=0.5.12,!=0.5.4,!=0.5.5,!=0.5.7,!=0.5.9,<0.7.0,>=0.4.0->langchain_chroma) (1.21.0)\n",
      "Requirement already satisfied: opentelemetry-api>=1.2.0 in /usr/local/lib/python3.11/dist-packages (from chromadb!=0.5.10,!=0.5.11,!=0.5.12,!=0.5.4,!=0.5.5,!=0.5.7,!=0.5.9,<0.7.0,>=0.4.0->langchain_chroma) (1.31.1)\n",
      "Requirement already satisfied: opentelemetry-exporter-otlp-proto-grpc>=1.2.0 in /usr/local/lib/python3.11/dist-packages (from chromadb!=0.5.10,!=0.5.11,!=0.5.12,!=0.5.4,!=0.5.5,!=0.5.7,!=0.5.9,<0.7.0,>=0.4.0->langchain_chroma) (1.31.1)\n",
      "Requirement already satisfied: opentelemetry-instrumentation-fastapi>=0.41b0 in /usr/local/lib/python3.11/dist-packages (from chromadb!=0.5.10,!=0.5.11,!=0.5.12,!=0.5.4,!=0.5.5,!=0.5.7,!=0.5.9,<0.7.0,>=0.4.0->langchain_chroma) (0.52b1)\n",
      "Requirement already satisfied: opentelemetry-sdk>=1.2.0 in /usr/local/lib/python3.11/dist-packages (from chromadb!=0.5.10,!=0.5.11,!=0.5.12,!=0.5.4,!=0.5.5,!=0.5.7,!=0.5.9,<0.7.0,>=0.4.0->langchain_chroma) (1.31.1)\n",
      "Requirement already satisfied: tokenizers>=0.13.2 in /usr/local/lib/python3.11/dist-packages (from chromadb!=0.5.10,!=0.5.11,!=0.5.12,!=0.5.4,!=0.5.5,!=0.5.7,!=0.5.9,<0.7.0,>=0.4.0->langchain_chroma) (0.21.1)\n",
      "Requirement already satisfied: pypika>=0.48.9 in /usr/local/lib/python3.11/dist-packages (from chromadb!=0.5.10,!=0.5.11,!=0.5.12,!=0.5.4,!=0.5.5,!=0.5.7,!=0.5.9,<0.7.0,>=0.4.0->langchain_chroma) (0.48.9)\n",
      "Requirement already satisfied: tqdm>=4.65.0 in /usr/local/lib/python3.11/dist-packages (from chromadb!=0.5.10,!=0.5.11,!=0.5.12,!=0.5.4,!=0.5.5,!=0.5.7,!=0.5.9,<0.7.0,>=0.4.0->langchain_chroma) (4.67.1)\n",
      "Requirement already satisfied: overrides>=7.3.1 in /usr/local/lib/python3.11/dist-packages (from chromadb!=0.5.10,!=0.5.11,!=0.5.12,!=0.5.4,!=0.5.5,!=0.5.7,!=0.5.9,<0.7.0,>=0.4.0->langchain_chroma) (7.7.0)\n",
      "Requirement already satisfied: importlib-resources in /usr/local/lib/python3.11/dist-packages (from chromadb!=0.5.10,!=0.5.11,!=0.5.12,!=0.5.4,!=0.5.5,!=0.5.7,!=0.5.9,<0.7.0,>=0.4.0->langchain_chroma) (6.5.2)\n",
      "Requirement already satisfied: grpcio>=1.58.0 in /usr/local/lib/python3.11/dist-packages (from chromadb!=0.5.10,!=0.5.11,!=0.5.12,!=0.5.4,!=0.5.5,!=0.5.7,!=0.5.9,<0.7.0,>=0.4.0->langchain_chroma) (1.71.0)\n",
      "Requirement already satisfied: bcrypt>=4.0.1 in /usr/local/lib/python3.11/dist-packages (from chromadb!=0.5.10,!=0.5.11,!=0.5.12,!=0.5.4,!=0.5.5,!=0.5.7,!=0.5.9,<0.7.0,>=0.4.0->langchain_chroma) (4.3.0)\n",
      "Requirement already satisfied: typer>=0.9.0 in /usr/local/lib/python3.11/dist-packages (from chromadb!=0.5.10,!=0.5.11,!=0.5.12,!=0.5.4,!=0.5.5,!=0.5.7,!=0.5.9,<0.7.0,>=0.4.0->langchain_chroma) (0.15.2)\n",
      "Requirement already satisfied: kubernetes>=28.1.0 in /usr/local/lib/python3.11/dist-packages (from chromadb!=0.5.10,!=0.5.11,!=0.5.12,!=0.5.4,!=0.5.5,!=0.5.7,!=0.5.9,<0.7.0,>=0.4.0->langchain_chroma) (32.0.1)\n",
      "Requirement already satisfied: mmh3>=4.0.1 in /usr/local/lib/python3.11/dist-packages (from chromadb!=0.5.10,!=0.5.11,!=0.5.12,!=0.5.4,!=0.5.5,!=0.5.7,!=0.5.9,<0.7.0,>=0.4.0->langchain_chroma) (5.1.0)\n",
      "Requirement already satisfied: orjson>=3.9.12 in /usr/local/lib/python3.11/dist-packages (from chromadb!=0.5.10,!=0.5.11,!=0.5.12,!=0.5.4,!=0.5.5,!=0.5.7,!=0.5.9,<0.7.0,>=0.4.0->langchain_chroma) (3.10.15)\n",
      "Requirement already satisfied: httpx>=0.27.0 in /usr/local/lib/python3.11/dist-packages (from chromadb!=0.5.10,!=0.5.11,!=0.5.12,!=0.5.4,!=0.5.5,!=0.5.7,!=0.5.9,<0.7.0,>=0.4.0->langchain_chroma) (0.28.1)\n",
      "Requirement already satisfied: rich>=10.11.0 in /usr/local/lib/python3.11/dist-packages (from chromadb!=0.5.10,!=0.5.11,!=0.5.12,!=0.5.4,!=0.5.5,!=0.5.7,!=0.5.9,<0.7.0,>=0.4.0->langchain_chroma) (13.9.4)\n",
      "Requirement already satisfied: marshmallow<4.0.0,>=3.18.0 in /usr/local/lib/python3.11/dist-packages (from dataclasses-json<0.7,>=0.5.7->langchain-community) (3.26.1)\n",
      "Requirement already satisfied: typing-inspect<1,>=0.4.0 in /usr/local/lib/python3.11/dist-packages (from dataclasses-json<0.7,>=0.5.7->langchain-community) (0.9.0)\n",
      "Requirement already satisfied: jsonpatch<2.0,>=1.33 in /usr/local/lib/python3.11/dist-packages (from langchain-core<1.0.0,>=0.3.45->langchain) (1.33)\n",
      "Requirement already satisfied: packaging<25,>=23.2 in /usr/local/lib/python3.11/dist-packages (from langchain-core<1.0.0,>=0.3.45->langchain) (24.2)\n",
      "Requirement already satisfied: requests-toolbelt<2.0.0,>=1.0.0 in /usr/local/lib/python3.11/dist-packages (from langsmith<0.4,>=0.1.17->langchain) (1.0.0)\n",
      "Requirement already satisfied: zstandard<0.24.0,>=0.23.0 in /usr/local/lib/python3.11/dist-packages (from langsmith<0.4,>=0.1.17->langchain) (0.23.0)\n",
      "Requirement already satisfied: anyio<5,>=3.5.0 in /usr/local/lib/python3.11/dist-packages (from openai<2.0.0,>=1.66.3->langchain_openai) (4.9.0)\n",
      "Requirement already satisfied: distro<2,>=1.7.0 in /usr/local/lib/python3.11/dist-packages (from openai<2.0.0,>=1.66.3->langchain_openai) (1.9.0)\n",
      "Requirement already satisfied: jiter<1,>=0.4.0 in /usr/local/lib/python3.11/dist-packages (from openai<2.0.0,>=1.66.3->langchain_openai) (0.9.0)\n",
      "Requirement already satisfied: sniffio in /usr/local/lib/python3.11/dist-packages (from openai<2.0.0,>=1.66.3->langchain_openai) (1.3.1)\n",
      "Requirement already satisfied: annotated-types>=0.6.0 in /usr/local/lib/python3.11/dist-packages (from pydantic<3.0.0,>=2.7.4->langchain) (0.7.0)\n",
      "Requirement already satisfied: pydantic-core==2.27.2 in /usr/local/lib/python3.11/dist-packages (from pydantic<3.0.0,>=2.7.4->langchain) (2.27.2)\n",
      "Requirement already satisfied: python-dotenv>=0.21.0 in /usr/local/lib/python3.11/dist-packages (from pydantic-settings<3.0.0,>=2.4.0->langchain-community) (1.0.1)\n",
      "Requirement already satisfied: charset-normalizer<4,>=2 in /usr/local/lib/python3.11/dist-packages (from requests<3,>=2->langchain) (3.4.1)\n",
      "Requirement already satisfied: idna<4,>=2.5 in /usr/local/lib/python3.11/dist-packages (from requests<3,>=2->langchain) (3.10)\n",
      "Requirement already satisfied: urllib3<3,>=1.21.1 in /usr/local/lib/python3.11/dist-packages (from requests<3,>=2->langchain) (2.3.0)\n",
      "Requirement already satisfied: certifi>=2017.4.17 in /usr/local/lib/python3.11/dist-packages (from requests<3,>=2->langchain) (2025.1.31)\n",
      "Requirement already satisfied: greenlet!=0.4.17 in /usr/local/lib/python3.11/dist-packages (from SQLAlchemy<3,>=1.4->langchain) (3.1.1)\n",
      "Requirement already satisfied: regex>=2022.1.18 in /usr/local/lib/python3.11/dist-packages (from tiktoken<1,>=0.7->langchain_openai) (2024.11.6)\n",
      "Requirement already satisfied: pyproject_hooks in /usr/local/lib/python3.11/dist-packages (from build>=1.0.3->chromadb!=0.5.10,!=0.5.11,!=0.5.12,!=0.5.4,!=0.5.5,!=0.5.7,!=0.5.9,<0.7.0,>=0.4.0->langchain_chroma) (1.2.0)\n",
      "Requirement already satisfied: starlette<0.47.0,>=0.40.0 in /usr/local/lib/python3.11/dist-packages (from fastapi>=0.95.2->chromadb!=0.5.10,!=0.5.11,!=0.5.12,!=0.5.4,!=0.5.5,!=0.5.7,!=0.5.9,<0.7.0,>=0.4.0->langchain_chroma) (0.46.1)\n",
      "Requirement already satisfied: httpcore==1.* in /usr/local/lib/python3.11/dist-packages (from httpx>=0.27.0->chromadb!=0.5.10,!=0.5.11,!=0.5.12,!=0.5.4,!=0.5.5,!=0.5.7,!=0.5.9,<0.7.0,>=0.4.0->langchain_chroma) (1.0.7)\n",
      "Requirement already satisfied: h11<0.15,>=0.13 in /usr/local/lib/python3.11/dist-packages (from httpcore==1.*->httpx>=0.27.0->chromadb!=0.5.10,!=0.5.11,!=0.5.12,!=0.5.4,!=0.5.5,!=0.5.7,!=0.5.9,<0.7.0,>=0.4.0->langchain_chroma) (0.14.0)\n",
      "Requirement already satisfied: jsonpointer>=1.9 in /usr/local/lib/python3.11/dist-packages (from jsonpatch<2.0,>=1.33->langchain-core<1.0.0,>=0.3.45->langchain) (3.0.0)\n",
      "Requirement already satisfied: six>=1.9.0 in /usr/local/lib/python3.11/dist-packages (from kubernetes>=28.1.0->chromadb!=0.5.10,!=0.5.11,!=0.5.12,!=0.5.4,!=0.5.5,!=0.5.7,!=0.5.9,<0.7.0,>=0.4.0->langchain_chroma) (1.17.0)\n",
      "Requirement already satisfied: python-dateutil>=2.5.3 in /usr/local/lib/python3.11/dist-packages (from kubernetes>=28.1.0->chromadb!=0.5.10,!=0.5.11,!=0.5.12,!=0.5.4,!=0.5.5,!=0.5.7,!=0.5.9,<0.7.0,>=0.4.0->langchain_chroma) (2.8.2)\n",
      "Requirement already satisfied: google-auth>=1.0.1 in /usr/local/lib/python3.11/dist-packages (from kubernetes>=28.1.0->chromadb!=0.5.10,!=0.5.11,!=0.5.12,!=0.5.4,!=0.5.5,!=0.5.7,!=0.5.9,<0.7.0,>=0.4.0->langchain_chroma) (2.38.0)\n",
      "Requirement already satisfied: websocket-client!=0.40.0,!=0.41.*,!=0.42.*,>=0.32.0 in /usr/local/lib/python3.11/dist-packages (from kubernetes>=28.1.0->chromadb!=0.5.10,!=0.5.11,!=0.5.12,!=0.5.4,!=0.5.5,!=0.5.7,!=0.5.9,<0.7.0,>=0.4.0->langchain_chroma) (1.8.0)\n",
      "Requirement already satisfied: requests-oauthlib in /usr/local/lib/python3.11/dist-packages (from kubernetes>=28.1.0->chromadb!=0.5.10,!=0.5.11,!=0.5.12,!=0.5.4,!=0.5.5,!=0.5.7,!=0.5.9,<0.7.0,>=0.4.0->langchain_chroma) (2.0.0)\n",
      "Requirement already satisfied: oauthlib>=3.2.2 in /usr/local/lib/python3.11/dist-packages (from kubernetes>=28.1.0->chromadb!=0.5.10,!=0.5.11,!=0.5.12,!=0.5.4,!=0.5.5,!=0.5.7,!=0.5.9,<0.7.0,>=0.4.0->langchain_chroma) (3.2.2)\n",
      "Requirement already satisfied: durationpy>=0.7 in /usr/local/lib/python3.11/dist-packages (from kubernetes>=28.1.0->chromadb!=0.5.10,!=0.5.11,!=0.5.12,!=0.5.4,!=0.5.5,!=0.5.7,!=0.5.9,<0.7.0,>=0.4.0->langchain_chroma) (0.9)\n",
      "Requirement already satisfied: coloredlogs in /usr/local/lib/python3.11/dist-packages (from onnxruntime>=1.14.1->chromadb!=0.5.10,!=0.5.11,!=0.5.12,!=0.5.4,!=0.5.5,!=0.5.7,!=0.5.9,<0.7.0,>=0.4.0->langchain_chroma) (15.0.1)\n",
      "Requirement already satisfied: flatbuffers in /usr/local/lib/python3.11/dist-packages (from onnxruntime>=1.14.1->chromadb!=0.5.10,!=0.5.11,!=0.5.12,!=0.5.4,!=0.5.5,!=0.5.7,!=0.5.9,<0.7.0,>=0.4.0->langchain_chroma) (25.2.10)\n",
      "Requirement already satisfied: protobuf in /usr/local/lib/python3.11/dist-packages (from onnxruntime>=1.14.1->chromadb!=0.5.10,!=0.5.11,!=0.5.12,!=0.5.4,!=0.5.5,!=0.5.7,!=0.5.9,<0.7.0,>=0.4.0->langchain_chroma) (5.29.3)\n",
      "Requirement already satisfied: sympy in /usr/local/lib/python3.11/dist-packages (from onnxruntime>=1.14.1->chromadb!=0.5.10,!=0.5.11,!=0.5.12,!=0.5.4,!=0.5.5,!=0.5.7,!=0.5.9,<0.7.0,>=0.4.0->langchain_chroma) (1.13.1)\n",
      "Requirement already satisfied: deprecated>=1.2.6 in /usr/local/lib/python3.11/dist-packages (from opentelemetry-api>=1.2.0->chromadb!=0.5.10,!=0.5.11,!=0.5.12,!=0.5.4,!=0.5.5,!=0.5.7,!=0.5.9,<0.7.0,>=0.4.0->langchain_chroma) (1.2.18)\n",
      "Requirement already satisfied: importlib-metadata<8.7.0,>=6.0 in /usr/local/lib/python3.11/dist-packages (from opentelemetry-api>=1.2.0->chromadb!=0.5.10,!=0.5.11,!=0.5.12,!=0.5.4,!=0.5.5,!=0.5.7,!=0.5.9,<0.7.0,>=0.4.0->langchain_chroma) (8.6.1)\n",
      "Requirement already satisfied: googleapis-common-protos~=1.52 in /usr/local/lib/python3.11/dist-packages (from opentelemetry-exporter-otlp-proto-grpc>=1.2.0->chromadb!=0.5.10,!=0.5.11,!=0.5.12,!=0.5.4,!=0.5.5,!=0.5.7,!=0.5.9,<0.7.0,>=0.4.0->langchain_chroma) (1.69.2)\n",
      "Requirement already satisfied: opentelemetry-exporter-otlp-proto-common==1.31.1 in /usr/local/lib/python3.11/dist-packages (from opentelemetry-exporter-otlp-proto-grpc>=1.2.0->chromadb!=0.5.10,!=0.5.11,!=0.5.12,!=0.5.4,!=0.5.5,!=0.5.7,!=0.5.9,<0.7.0,>=0.4.0->langchain_chroma) (1.31.1)\n",
      "Requirement already satisfied: opentelemetry-proto==1.31.1 in /usr/local/lib/python3.11/dist-packages (from opentelemetry-exporter-otlp-proto-grpc>=1.2.0->chromadb!=0.5.10,!=0.5.11,!=0.5.12,!=0.5.4,!=0.5.5,!=0.5.7,!=0.5.9,<0.7.0,>=0.4.0->langchain_chroma) (1.31.1)\n",
      "Requirement already satisfied: opentelemetry-instrumentation-asgi==0.52b1 in /usr/local/lib/python3.11/dist-packages (from opentelemetry-instrumentation-fastapi>=0.41b0->chromadb!=0.5.10,!=0.5.11,!=0.5.12,!=0.5.4,!=0.5.5,!=0.5.7,!=0.5.9,<0.7.0,>=0.4.0->langchain_chroma) (0.52b1)\n",
      "Requirement already satisfied: opentelemetry-instrumentation==0.52b1 in /usr/local/lib/python3.11/dist-packages (from opentelemetry-instrumentation-fastapi>=0.41b0->chromadb!=0.5.10,!=0.5.11,!=0.5.12,!=0.5.4,!=0.5.5,!=0.5.7,!=0.5.9,<0.7.0,>=0.4.0->langchain_chroma) (0.52b1)\n",
      "Requirement already satisfied: opentelemetry-semantic-conventions==0.52b1 in /usr/local/lib/python3.11/dist-packages (from opentelemetry-instrumentation-fastapi>=0.41b0->chromadb!=0.5.10,!=0.5.11,!=0.5.12,!=0.5.4,!=0.5.5,!=0.5.7,!=0.5.9,<0.7.0,>=0.4.0->langchain_chroma) (0.52b1)\n",
      "Requirement already satisfied: opentelemetry-util-http==0.52b1 in /usr/local/lib/python3.11/dist-packages (from opentelemetry-instrumentation-fastapi>=0.41b0->chromadb!=0.5.10,!=0.5.11,!=0.5.12,!=0.5.4,!=0.5.5,!=0.5.7,!=0.5.9,<0.7.0,>=0.4.0->langchain_chroma) (0.52b1)\n",
      "Requirement already satisfied: wrapt<2.0.0,>=1.0.0 in /usr/local/lib/python3.11/dist-packages (from opentelemetry-instrumentation==0.52b1->opentelemetry-instrumentation-fastapi>=0.41b0->chromadb!=0.5.10,!=0.5.11,!=0.5.12,!=0.5.4,!=0.5.5,!=0.5.7,!=0.5.9,<0.7.0,>=0.4.0->langchain_chroma) (1.17.2)\n",
      "Requirement already satisfied: asgiref~=3.0 in /usr/local/lib/python3.11/dist-packages (from opentelemetry-instrumentation-asgi==0.52b1->opentelemetry-instrumentation-fastapi>=0.41b0->chromadb!=0.5.10,!=0.5.11,!=0.5.12,!=0.5.4,!=0.5.5,!=0.5.7,!=0.5.9,<0.7.0,>=0.4.0->langchain_chroma) (3.8.1)\n",
      "Requirement already satisfied: monotonic>=1.5 in /usr/local/lib/python3.11/dist-packages (from posthog>=2.4.0->chromadb!=0.5.10,!=0.5.11,!=0.5.12,!=0.5.4,!=0.5.5,!=0.5.7,!=0.5.9,<0.7.0,>=0.4.0->langchain_chroma) (1.6)\n",
      "Requirement already satisfied: backoff>=1.10.0 in /usr/local/lib/python3.11/dist-packages (from posthog>=2.4.0->chromadb!=0.5.10,!=0.5.11,!=0.5.12,!=0.5.4,!=0.5.5,!=0.5.7,!=0.5.9,<0.7.0,>=0.4.0->langchain_chroma) (2.2.1)\n",
      "Requirement already satisfied: markdown-it-py>=2.2.0 in /usr/local/lib/python3.11/dist-packages (from rich>=10.11.0->chromadb!=0.5.10,!=0.5.11,!=0.5.12,!=0.5.4,!=0.5.5,!=0.5.7,!=0.5.9,<0.7.0,>=0.4.0->langchain_chroma) (3.0.0)\n",
      "Requirement already satisfied: pygments<3.0.0,>=2.13.0 in /usr/local/lib/python3.11/dist-packages (from rich>=10.11.0->chromadb!=0.5.10,!=0.5.11,!=0.5.12,!=0.5.4,!=0.5.5,!=0.5.7,!=0.5.9,<0.7.0,>=0.4.0->langchain_chroma) (2.18.0)\n",
      "Requirement already satisfied: huggingface-hub<1.0,>=0.16.4 in /usr/local/lib/python3.11/dist-packages (from tokenizers>=0.13.2->chromadb!=0.5.10,!=0.5.11,!=0.5.12,!=0.5.4,!=0.5.5,!=0.5.7,!=0.5.9,<0.7.0,>=0.4.0->langchain_chroma) (0.29.3)\n",
      "Requirement already satisfied: click>=8.0.0 in /usr/local/lib/python3.11/dist-packages (from typer>=0.9.0->chromadb!=0.5.10,!=0.5.11,!=0.5.12,!=0.5.4,!=0.5.5,!=0.5.7,!=0.5.9,<0.7.0,>=0.4.0->langchain_chroma) (8.1.8)\n",
      "Requirement already satisfied: shellingham>=1.3.0 in /usr/local/lib/python3.11/dist-packages (from typer>=0.9.0->chromadb!=0.5.10,!=0.5.11,!=0.5.12,!=0.5.4,!=0.5.5,!=0.5.7,!=0.5.9,<0.7.0,>=0.4.0->langchain_chroma) (1.5.4)\n",
      "Requirement already satisfied: mypy-extensions>=0.3.0 in /usr/local/lib/python3.11/dist-packages (from typing-inspect<1,>=0.4.0->dataclasses-json<0.7,>=0.5.7->langchain-community) (1.0.0)\n",
      "Requirement already satisfied: httptools>=0.6.3 in /usr/local/lib/python3.11/dist-packages (from uvicorn[standard]>=0.18.3->chromadb!=0.5.10,!=0.5.11,!=0.5.12,!=0.5.4,!=0.5.5,!=0.5.7,!=0.5.9,<0.7.0,>=0.4.0->langchain_chroma) (0.6.4)\n",
      "Requirement already satisfied: uvloop!=0.15.0,!=0.15.1,>=0.14.0 in /usr/local/lib/python3.11/dist-packages (from uvicorn[standard]>=0.18.3->chromadb!=0.5.10,!=0.5.11,!=0.5.12,!=0.5.4,!=0.5.5,!=0.5.7,!=0.5.9,<0.7.0,>=0.4.0->langchain_chroma) (0.21.0)\n",
      "Requirement already satisfied: watchfiles>=0.13 in /usr/local/lib/python3.11/dist-packages (from uvicorn[standard]>=0.18.3->chromadb!=0.5.10,!=0.5.11,!=0.5.12,!=0.5.4,!=0.5.5,!=0.5.7,!=0.5.9,<0.7.0,>=0.4.0->langchain_chroma) (1.0.4)\n",
      "Requirement already satisfied: websockets>=10.4 in /usr/local/lib/python3.11/dist-packages (from uvicorn[standard]>=0.18.3->chromadb!=0.5.10,!=0.5.11,!=0.5.12,!=0.5.4,!=0.5.5,!=0.5.7,!=0.5.9,<0.7.0,>=0.4.0->langchain_chroma) (14.2)\n",
      "Requirement already satisfied: cachetools<6.0,>=2.0.0 in /usr/local/lib/python3.11/dist-packages (from google-auth>=1.0.1->kubernetes>=28.1.0->chromadb!=0.5.10,!=0.5.11,!=0.5.12,!=0.5.4,!=0.5.5,!=0.5.7,!=0.5.9,<0.7.0,>=0.4.0->langchain_chroma) (5.5.2)\n",
      "Requirement already satisfied: pyasn1-modules>=0.2.1 in /usr/local/lib/python3.11/dist-packages (from google-auth>=1.0.1->kubernetes>=28.1.0->chromadb!=0.5.10,!=0.5.11,!=0.5.12,!=0.5.4,!=0.5.5,!=0.5.7,!=0.5.9,<0.7.0,>=0.4.0->langchain_chroma) (0.4.1)\n",
      "Requirement already satisfied: rsa<5,>=3.1.4 in /usr/local/lib/python3.11/dist-packages (from google-auth>=1.0.1->kubernetes>=28.1.0->chromadb!=0.5.10,!=0.5.11,!=0.5.12,!=0.5.4,!=0.5.5,!=0.5.7,!=0.5.9,<0.7.0,>=0.4.0->langchain_chroma) (4.9)\n",
      "Requirement already satisfied: filelock in /usr/local/lib/python3.11/dist-packages (from huggingface-hub<1.0,>=0.16.4->tokenizers>=0.13.2->chromadb!=0.5.10,!=0.5.11,!=0.5.12,!=0.5.4,!=0.5.5,!=0.5.7,!=0.5.9,<0.7.0,>=0.4.0->langchain_chroma) (3.18.0)\n",
      "Requirement already satisfied: fsspec>=2023.5.0 in /usr/local/lib/python3.11/dist-packages (from huggingface-hub<1.0,>=0.16.4->tokenizers>=0.13.2->chromadb!=0.5.10,!=0.5.11,!=0.5.12,!=0.5.4,!=0.5.5,!=0.5.7,!=0.5.9,<0.7.0,>=0.4.0->langchain_chroma) (2025.3.0)\n",
      "Requirement already satisfied: zipp>=3.20 in /usr/local/lib/python3.11/dist-packages (from importlib-metadata<8.7.0,>=6.0->opentelemetry-api>=1.2.0->chromadb!=0.5.10,!=0.5.11,!=0.5.12,!=0.5.4,!=0.5.5,!=0.5.7,!=0.5.9,<0.7.0,>=0.4.0->langchain_chroma) (3.21.0)\n",
      "Requirement already satisfied: mdurl~=0.1 in /usr/local/lib/python3.11/dist-packages (from markdown-it-py>=2.2.0->rich>=10.11.0->chromadb!=0.5.10,!=0.5.11,!=0.5.12,!=0.5.4,!=0.5.5,!=0.5.7,!=0.5.9,<0.7.0,>=0.4.0->langchain_chroma) (0.1.2)\n",
      "Requirement already satisfied: humanfriendly>=9.1 in /usr/local/lib/python3.11/dist-packages (from coloredlogs->onnxruntime>=1.14.1->chromadb!=0.5.10,!=0.5.11,!=0.5.12,!=0.5.4,!=0.5.5,!=0.5.7,!=0.5.9,<0.7.0,>=0.4.0->langchain_chroma) (10.0)\n",
      "Requirement already satisfied: mpmath<1.4,>=1.1.0 in /usr/local/lib/python3.11/dist-packages (from sympy->onnxruntime>=1.14.1->chromadb!=0.5.10,!=0.5.11,!=0.5.12,!=0.5.4,!=0.5.5,!=0.5.7,!=0.5.9,<0.7.0,>=0.4.0->langchain_chroma) (1.3.0)\n",
      "Requirement already satisfied: pyasn1<0.7.0,>=0.4.6 in /usr/local/lib/python3.11/dist-packages (from pyasn1-modules>=0.2.1->google-auth>=1.0.1->kubernetes>=28.1.0->chromadb!=0.5.10,!=0.5.11,!=0.5.12,!=0.5.4,!=0.5.5,!=0.5.7,!=0.5.9,<0.7.0,>=0.4.0->langchain_chroma) (0.6.1)\n",
      "Using cached numpy-1.26.4-cp311-cp311-manylinux_2_17_x86_64.manylinux2014_x86_64.whl (18.3 MB)\n",
      "Installing collected packages: numpy\n",
      "  Attempting uninstall: numpy\n",
      "    Found existing installation: numpy 2.2.4\n",
      "    Uninstalling numpy-2.2.4:\n",
      "      Successfully uninstalled numpy-2.2.4\n",
      "\u001b[31mERROR: pip's dependency resolver does not currently take into account all the packages that are installed. This behaviour is the source of the following dependency conflicts.\n",
      "google-colab 1.0.0 requires pandas==2.2.2, but you have pandas 2.2.3 which is incompatible.\u001b[0m\u001b[31m\n",
      "\u001b[0mSuccessfully installed numpy-1.26.4\n"
     ]
    }
   ],
   "source": [
    "!pip install langchain langchain-community langchain_openai langchain_chroma"
   ]
  },
  {
   "cell_type": "code",
   "execution_count": null,
   "metadata": {
    "id": "ySm_km63jDrQ"
   },
   "outputs": [],
   "source": [
    "import os\n",
    "from langchain_chroma import Chroma                                 # This is your vector DB\n",
    "from langchain_core.prompts import PromptTemplate                   # This will be used for framing our prompt\n",
    "from langchain_openai import OpenAIEmbeddings, ChatOpenAI           # This will help us in getting embedding model and chat model\n",
    "from langchain_text_splitters import CharacterTextSplitter          # This will be used for splitting your documents token by token\n",
    "from langchain_core.runnables import RunnablePassthrough            # To run this chain\n",
    "from langchain_core.output_parsers.string import StrOutputParser    # This will help us convert a particualar output into string"
   ]
  },
  {
   "cell_type": "markdown",
   "metadata": {
    "id": "iP-qOTpfnwkM"
   },
   "source": [
    "## **2. Document Processing**"
   ]
  },
  {
   "cell_type": "markdown",
   "metadata": {
    "id": "qMdcSfqApdM5"
   },
   "source": [
    "**Documentation Link: https://python.langchain.com/docs/integrations/providers/**"
   ]
  },
  {
   "cell_type": "markdown",
   "metadata": {
    "id": "PlrFwChvn3dC"
   },
   "source": [
    "#### **1. Taking a text file**"
   ]
  },
  {
   "cell_type": "code",
   "execution_count": null,
   "metadata": {
    "id": "eRROEGljj8SN"
   },
   "outputs": [],
   "source": [
    "with open(\"/content/drive/MyDrive/PPTs/Session Files/Morning - GenAI/RAG Implementation/Text Data Source/2024_state_of_the_union.txt\") as f:\n",
    "  files = f.read()"
   ]
  },
  {
   "cell_type": "code",
   "execution_count": null,
   "metadata": {
    "colab": {
     "base_uri": "https://localhost:8080/"
    },
    "id": "kMZ7KaQNoQY0",
    "outputId": "f65ff497-e36c-457c-905f-2c67e0a78a75"
   },
   "outputs": [
    {
     "name": "stdout",
     "output_type": "stream",
     "text": [
      "March 07, 2024\n",
      "Remarks of President Joe Biden — State of the Union Address As Prepared for Delivery\n",
      "Home\n",
      "Briefing Room\n",
      "Speeches and Remarks\n",
      "The United States Capitol\n",
      "\n",
      "###\n",
      "\n",
      "Good evening. \n",
      "\n",
      "Mr. Speaker. Madam Vice President. Members of Congress. My Fellow Americans. \n",
      "\n",
      "In January 1941, President Franklin Roosevelt came to this chamber to speak to the nation. \n",
      "\n",
      "He said, “I address you at a moment unprecedented in the history of the Union.” \n",
      "\n",
      "Hitler was on the march. War was raging in Europe. \n",
      "\n",
      "President Roosevelt’s purpose was to wake up the Congress and alert the American people that this was no ordinary moment.   \n",
      "\n",
      "Freedom and democracy were under assault in the world. \n",
      "\n",
      "Tonight I come to the same chamber to address the nation. \n",
      "\n",
      "Now it is we who face an unprecedented moment in the history of the Union. \n",
      "\n",
      "And yes, my purpose tonight is to both wake up this Congress, and alert the American people that this is no ordinary moment either. \n",
      "\n",
      "Not since President Lincoln and the Civil War have freedom and democracy been under assault here at home as they are today. \n",
      "\n",
      "What makes our moment rare is that freedom and democracy are under attack, both at home and overseas, at the very same time. \n",
      "\n",
      "Overseas, Putin of Russia is on the march, invading Ukraine and sowing chaos throughout Europe and beyond. \n",
      "\n",
      "If anybody in this room thinks Putin will stop at Ukraine, I assure you, he will not. \n",
      "\n",
      "But Ukraine can stop Putin if we stand with Ukraine and provide the weapons it needs to defend itself. That is all Ukraine is asking. They are not asking for American soldiers. \n",
      "\n",
      "In fact, there are no American soldiers at war in Ukraine. And I am determined to keep it that way. \n",
      "\n",
      "But now assistance for Ukraine is being blocked by those who want us to walk away from our leadership in the world. \n",
      "\n",
      "It wasn’t that long ago when a Republican President, Ronald Reagan, thundered, “Mr. Gorbachev, tear down this wall.” \n",
      "\n",
      "Now, my predecessor, a former Republican President, tells Putin, “Do whatever the hell you want.” \n",
      "\n",
      "A former American President actually said that, bowing down to a Russian leader. \n",
      "\n",
      "It’s outrageous. It’s dangerous. It’s unacceptable. \n",
      "\n",
      "America is a founding member of NATO the military alliance of democratic nations created after World War II to prevent war and keep the peace.  \n",
      "\n",
      "Today, we’ve made NATO stronger than ever. \n",
      "\n",
      "We welcomed Finland to the Alliance last year, and just this morning, Sweden officially joined NATO, and their Prime Minister is here tonight. \n",
      "\n",
      "Mr. Prime Minister, welcome to NATO, the strongest military alliance the world has ever known. \n",
      "\n",
      "I say this to Congress: we must stand up to Putin. Send me the Bipartisan National Security Bill. \n",
      "\n",
      "History is watching. \n",
      "\n",
      "If the United States walks away now, it will put Ukraine at risk. \n",
      "\n",
      "Europe at risk. The free world at risk, emboldening others who wish to do us harm. \n",
      " \n",
      " \n",
      "\n",
      "My message to President Putin is simple.  \n",
      "\n",
      "We will not walk away. We will not bow down. I will not bow down. \n",
      "\n",
      "History is watching, just like history watched three years ago on January 6th. \n",
      "\n",
      "Insurrectionists stormed this very Capitol and placed a dagger at the throat of American democracy. \n",
      "\n",
      "Many of you were here on that darkest of days. \n",
      "\n",
      "We all saw with our own eyes these insurrectionists were not patriots. \n",
      " \n",
      "\n",
      "They had come to stop the peaceful transfer of power and to overturn the will of the people. \n",
      "\n",
      "January 6th and the lies about the 2020 election, and the plots to steal the election, posed the gravest threat to our democracy since the Civil War. \n",
      "\n",
      "But they failed. America stood strong and democracy prevailed. \n",
      "\n",
      "But we must be honest the threat remains and democracy must be defended. \n",
      "\n",
      "My predecessor and some of you here seek to bury the truth of January 6th. \n",
      "\n",
      "I will not do that. \n",
      "\n",
      "This is a moment to speak the truth and bury the lies. \n",
      "\n",
      "And here’s the simplest truth. You can’t love your country only when you win. \n",
      "\n",
      "As I’ve done ever since being elected to office, I ask you all, without regard to party, to join together and defend our democracy! \n",
      "\n",
      "Remember your oath of office to defend against all threats foreign and domestic. \n",
      "\n",
      "Respect free and fair elections! Restore trust in our institutions! And make clear –political violence  \n",
      "\n",
      "has absolutely no place in America! \n",
      "\n",
      "History is watching. \n",
      "\n",
      "And history is watching another assault on freedom.  \n",
      "\n",
      "Joining us tonight is Latorya Beasley, a social worker from Birmingham, Alabama. 14 months ago tonight, she and her husband welcomed a baby girl thanks to the miracle of IVF. \n",
      "\n",
      "She scheduled treatments to have a second child, but the Alabama Supreme Court shut down IVF treatments across the state, unleashed by the Supreme Court decision overturning Roe v. Wade. \n",
      "\n",
      "She was told her dream would have to wait. \n",
      "\n",
      "What her family has gone through should never have happened. And unless Congress acts, it could happen again. \n",
      "\n",
      "So tonight, let’s stand up for families like hers! \n",
      "\n",
      "To my friends across the aisle, don’t keep families waiting any longer. Guarantee the right to IVF nationwide! \n",
      "\n",
      "Like most Americans, I believe Roe v. Wade got it right. And I thank Vice President Harris for being an incredible leader, defending reproductive freedom and so much more. \n",
      "\n",
      "But my predecessor came to office determined  \n",
      "\n",
      "to see Roe v. Wade overturned. \n",
      "\n",
      "He’s the reason it was overturned. In fact, he brags about it. \n",
      "\n",
      "Look at the chaos that has resulted. \n",
      "\n",
      "Joining us tonight is Kate Cox, a wife and mother  \n",
      "\n",
      "from Dallas. \n",
      "\n",
      "When she became pregnant again, the fetus had a fatal condition. \n",
      "\n",
      "Her doctors told Kate that her own life and her ability to have children in the future were at risk if she didn’t act. \n",
      "\n",
      "Because Texas law banned abortion, Kate and her husband had to leave the state to get the care she needed. \n",
      "\n",
      "What her family has gone through should never have happened as well. But it is happening to so many others. \n",
      "\n",
      "There are state laws banning the right to choose, criminalizing doctors, and forcing survivors of rape and incest to leave their states as well to get the care they need. \n",
      "\n",
      "Many of you in this Chamber and my predecessor are promising to pass a national ban on reproductive freedom. \n",
      "\n",
      "My God, what freedoms will you take away next? \n",
      "\n",
      "In its decision to overturn Roe v. Wade the Supreme Court majority wrote, “Women are not without – \n",
      "\n",
      "electoral or political power.” \n",
      "\n",
      "No kidding. \n",
      "\n",
      "Clearly, those bragging about overturning Roe v. Wade have no clue about the power of women in America. \n",
      "\n",
      "They found out though when reproductive freedom   \n",
      "\n",
      "was on the ballot and won in 2022, 2023, and they will find out again, in 2024. \n",
      "\n",
      "If Americans send me a Congress that supports the right to choose, I promise you, I will restore Roe v. Wade as the law of the land again! \n",
      "\n",
      "America cannot go back. I am here tonight to show the way forward. Because I know how far we’ve come. \n",
      "\n",
      "Four years ago next week, before I came to office, our country was hit by the worst pandemic and the worst economic crisis in a century. \n",
      "\n",
      "Remember the fear. Record job losses. Remember the spike in crime. And the murder rate. \n",
      "\n",
      "A raging virus that would take more than 1 million American lives and leave millions of loved ones behind. \n",
      "\n",
      "A mental health crisis of isolation and loneliness. \n",
      "\n",
      "A president, my predecessor, who failed the most basic duty. Any President owes the American people the duty to care. \n",
      "\n",
      "That is unforgivable. \n",
      "\n",
      "I came to office determined to get us through one of the toughest periods in our nation’s history. \n",
      "\n",
      "And we have. It doesn’t make the news but in thousands of cities and towns the American people are writing the greatest comeback story never told. \n",
      "\n",
      "So let’s tell that story here and now. \n",
      "\n",
      "America’s comeback is building a future of American possibilities, building an economy from the middle out and the bottom up, not the top down, investing in all of America, in all Americans to make sure everyone has a fair shot and we leave no one behind! \n",
      "\n",
      "The pandemic no longer controls our lives. The vaccines that saved us from COVID are now being used to help beat cancer. \n",
      "\n",
      "Turning setback into comeback. \n",
      "\n",
      "That’s America! \n",
      "\n",
      "I inherited an economy that was on the brink. Now our economy is the envy of the world! \n",
      "\n",
      "15 million new jobs in just three years – that’s a record! \n",
      "\n",
      "Unemployment at 50-year lows. \n",
      "\n",
      "A record 16 million Americans are starting small businesses and each one is an act of hope. \n",
      "\n",
      "With historic job growth and small business growth for Black, Hispanic, and Asian-Americans. \n",
      "\n",
      "800,000 new manufacturing jobs in America and counting. \n",
      "\n",
      "More people have health insurance today than ever before. \n",
      "\n",
      "The racial wealth gap is the smallest it’s been in 20 years. \n",
      "\n",
      "Wages keep going up and inflation keeps coming down! \n",
      "\n",
      "Inflation has dropped from 9% to 3% – the lowest in the world! \n",
      "\n",
      "And trending lower. \n",
      "\n",
      "And now instead of importing foreign products and exporting American jobs, we’re exporting American products and creating American jobs – right here in America where they belong! \n",
      " \n",
      " \n",
      "\n",
      "And the American people are beginning to feel it. \n",
      "\n",
      "Consumer studies show consumer confidence is soaring. \n",
      "\n",
      "Buy American has been the law of the land since the 1930s.  \n",
      " \n",
      "\n",
      "Past administrations including my predecessor failed to Buy American. \n",
      "\n",
      "Not any more. \n",
      "\n",
      "On my watch, federal projects like helping to build American roads bridges and highways will be made with American products built by American workers creating good-paying American jobs! \n",
      "\n",
      "Thanks to my Chips and Science Act the United States is investing more in research and development than ever before. \n",
      "\n",
      "During the pandemic a shortage of semiconductor chips drove up prices for everything from cell phones to automobiles.  \n",
      "\n",
      "Well instead of having to import semiconductor chips, which America invented I might add, private companies are now investing billions of dollars to build new chip factories here in America! \n",
      "\n",
      "Creating tens of thousands of jobs many of them paying over $100,000 a year and don’t require a college degree. \n",
      "\n",
      "In fact my policies have attracted $650 Billion of private sector investments in clean energy and advanced manufacturing creating tens of thousands of jobs here in America! \n",
      "\n",
      "Thanks to our Bipartisan Infrastructure Law, 46,000 new projects have been announced across your communities – modernizing our roads and bridges, ports and airports, and public transit systems. \n",
      "\n",
      "Removing poisonous lead pipes so every child can drink clean water without risk of getting brain damage. \n",
      "\n",
      "Providing affordable high speed internet for every American no matter where you live. \n",
      "\n",
      "Urban, suburban, and rural communities — in red states and blue. \n",
      "\n",
      "Record investments in tribal communities. \n",
      "\n",
      "Because of my investments, family farms are better be able to stay in the family and children and grandchildren won’t have to leave home to make a living.  \n",
      "\n",
      "It’s transformative.  \n",
      "\n",
      " \n",
      "A great comeback story is Belvidere, Illinois. Home to an auto plant for nearly 60 years.  \n",
      " \n",
      "\n",
      "Before I came to office the plant was on its way to shutting down. \n",
      "\n",
      " \n",
      "Thousands of workers feared for their livelihoods. Hope was fading. \n",
      " \n",
      "\n",
      "Then I was elected to office and we raised Belvidere repeatedly with the auto company knowing unions make all the difference. \n",
      "\n",
      "The UAW worked like hell to keep the plant open and get those jobs back. And together, we succeeded! \n",
      "\n",
      "Instead of an auto factory shutting down an auto factory is re-opening and a new state-of-the art battery factory is being built to power those cars. \n",
      "\n",
      "Instead of a town being left behind it’s a community moving forward again! \n",
      "\n",
      "Because instead of watching auto jobs of the future go overseas 4,000 union workers with higher wages will be building that future, in Belvidere, here in America! \n",
      "\n",
      "Here tonight is UAW President, Shawn Fain, a great friend, and a great labor leader. \n",
      "\n",
      "And Dawn Simms, a third generation UAW worker  in Belvidere. \n",
      "\n",
      "Shawn, I was proud to be the first President in American history to walk a picket line. \n",
      "\n",
      "And today Dawn has a job in her hometown providing stability for her family and pride and dignity. \n",
      "\n",
      "Showing once again, Wall Street didn’t build this country! \n",
      "\n",
      "The middle class built this country! And unions built the middle class! \n",
      "\n",
      "When Americans get knocked down, we get back up! \n",
      "\n",
      "We keep going! \n",
      "\n",
      "That’s America! That’s you, the American people! \n",
      "\n",
      "It’s because of you America is coming back!  \n",
      "\n",
      "It’s because of you, our future is brighter! \n",
      "\n",
      "And it’s because of you that tonight we can proudly say the State of our Union is strong and getting stronger!  \n",
      " \n",
      "\n",
      "Tonight I want to talk about the future of possibilities that we can build together. \n",
      "\n",
      "A future where the days of trickle-down economics are over and the wealthy and biggest corporations no longer get all the breaks. \n",
      "\n",
      "I grew up in a home where not a lot trickled down on my Dad’s kitchen table. \n",
      "\n",
      "That’s why I’m determined to turn things around so the middle class does well the poor have a way up and the wealthy still does well. \n",
      "\n",
      "We all do well. \n",
      "\n",
      "And there’s more to do to make sure you’re feeling the benefits of all we’re doing. \n",
      "\n",
      "Americans pay more for prescription drugs than anywhere else. \n",
      "\n",
      "It’s wrong and I’m ending it. \n",
      "\n",
      "With a law I proposed and signed and not one Republican voted for we finally beat Big Pharma! \n",
      "\n",
      "Instead of paying $400 a month for insulin seniors with diabetes only have to pay $35 a month! \n",
      "\n",
      "And now I want to cap the cost of insulin at $35 a month for every American who needs it! \n",
      "\n",
      "For years people have talked about it but I finally got it done and gave Medicare the power to negotiate lower prices for prescription drugs just like the VA does for our veterans. \n",
      "\n",
      "That’s not just saving seniors money. \n",
      "\n",
      "It’s saving taxpayers money cutting the federal deficit by $160 Billion because Medicare will no longer have to pay exorbitant prices to Big Pharma. \n",
      "\n",
      "This year Medicare is negotiating lower prices for some of the costliest drugs on the market that treat everything from heart disease to arthritis. \n",
      "\n",
      "Now it’s time to go further and give Medicare the power to negotiate lower prices for 500 drugs over the next decade. \n",
      "\n",
      "That will not only save lives it will save taxpayers another $200 Billion! \n",
      "\n",
      "Starting next year that same law caps total prescription drug costs for seniors on Medicare at $2,000 a year even for expensive cancer drugs that can cost $10,000, $12,000, $15,000 a year. \n",
      "\n",
      "Now I want to cap prescription drug costs at $2,000 a year for everyone! \n",
      "\n",
      "Folks Obamacare, known as the Affordable Care Act is still a very big deal. \n",
      "\n",
      "Over one hundred million of you can no longer be denied health insurance because of pre-existing conditions. \n",
      "\n",
      "But my predecessor and many in this chamber want to take that protection away by repealing the Affordable Care Act I won’t let that happen! \n",
      "\n",
      "We stopped you 50 times before and we will stop you again! \n",
      "\n",
      "In fact I am protecting it and expanding it. \n",
      "\n",
      "I enacted tax credits that save $800 per person per year reducing health care premiums for millions of working families. \n",
      "\n",
      "Those tax credits expire next year. \n",
      "\n",
      "I want to make those savings permanent! \n",
      "\n",
      "Women are more than half of our population but research on women’s health has always been underfunded.  \n",
      "\n",
      "That’s why we’re launching the first-ever White House Initiative on Women’s Health Research, led by Jill who is doing an incredible job as First Lady. \n",
      "\n",
      "Pass my plan for $12 Billion to transform women’s health research and benefit millions of lives across America! \n",
      "\n",
      "I know the cost of housing is so important to you.  \n",
      "\n",
      "If inflation keeps coming down mortgage rates will come down as well. \n",
      "\n",
      "But I’m not waiting. \n",
      "\n",
      "I want to provide an annual tax creditthat will give Americans $400 a month for the next two years as mortgage rates come down to put toward their mortgage when they buy a first home or trade up for a little more space. \n",
      "\n",
      "My Administration is also eliminating title insurance fees for federally backed mortgages. \n",
      "\n",
      "When you refinance your home this can save you $1,000 or more. \n",
      "\n",
      "For millions of renters, we’re cracking down on big landlords who break antitrust laws by price-fixing and driving up rents.  \n",
      "\n",
      "I’ve cut red tape so more builders can get federal financing, which is already helping build a record 1.7 million housing units nationwide. \n",
      "\n",
      "Now pass my plan to build and renovate 2 million  affordable homes and bring those rents down! \n",
      "\n",
      "To remain the strongest economy in the world we need the best education system in the world. \n",
      "\n",
      "I want to give every child a good start by providing access to pre-school for 3- and 4-year-olds. \n",
      "\n",
      "Studies show that children who go to pre-school are nearly 50% more likely to finish high school and go on to earn a 2- or 4-year degree no matter their background. \n",
      "\n",
      "I want to expand high-quality tutoring and summer learning time and see to it that every child learns to read by third grade. \n",
      "\n",
      "I’m also connecting businesses and high schools so students get hands-on experience and a path to a good-paying job whether or not they go to college. \n",
      "\n",
      "And I want to make college more affordable. \n",
      "\n",
      "Let’s continue increasing Pell Grants for working- and middle-class families and increase our record investments in HBCUs and Hispanic and Minority-serving Institutions \n",
      "\n",
      "I fixed student loan programs to reduce the burden  of student debt for nearly 4 Million Americans including nurses firefighters and others in public service like Keenan Jones a public-school educator in Minnesota who’s here with us tonight. \n",
      "\n",
      "He’s educated hundreds of students so they can go to college now he can help his own daughter pay for college.  \n",
      "\n",
      "Such relief is good for the economy because folks are now able to buy a home start a business even start a family. \n",
      "\n",
      "While we’re at it I want to give public school teachers a raise! \n",
      "\n",
      "Now let me speak to a question of fundamental fairness for all Americans. \n",
      "\n",
      "I’ve been delivering real results in a fiscally responsible way. \n",
      "\n",
      "I’ve already cut the federal deficit by over one trillion dollars. \n",
      "\n",
      "I signed a bipartisan budget deal that will cut another trillion dollars over the next decade. \n",
      "\n",
      "And now it’s my goal to cut the federal deficit $3 trillion more by making big corporations and the very wealthy finally pay their fair share.  \n",
      "\n",
      "Look, I’m a capitalist. \n",
      "\n",
      "If you want to make a million bucks – great! \n",
      "\n",
      "Just pay your fair share in taxes. \n",
      "\n",
      "A fair tax code is how we invest in the things –  \n",
      "\n",
      "that make a country great, health care, education, defense, and more. \n",
      "\n",
      "But here’s the deal. \n",
      "\n",
      "The last administration enacted a $2 Trillion tax cut that overwhelmingly benefits the very wealthy and the biggest corporations and exploded the federal deficit. \n",
      "\n",
      "They added more to the national debt than in any presidential term in American history. \n",
      "\n",
      "For folks at home does anybody really think the tax code is fair? \n",
      "\n",
      "Do you really think the wealthy and big corporations need another $2 trillion in tax breaks? \n",
      "\n",
      "I sure don’t. I’m going to keep fighting like hell to make it fair! \n",
      "\n",
      "Under my plan nobody earning less than $400,000 will pay an additional penny in federal taxes. \n",
      "\n",
      "Nobody. Not one penny. \n",
      "\n",
      "In fact the Child Tax Credit I passed during the pandemic cut taxes for millions of working families and cut child poverty in HALF. \n",
      "\n",
      "Restore the Child Tax Credit because no child should go hungry in this country! \n",
      "\n",
      "The way to make the tax code fair is to make big corporations and the very wealthy finally pay their share. \n",
      "\n",
      "In 2020 55 of the biggest companies in America made $40 Billion in profits and paid zero in federal income taxes.  \n",
      "\n",
      "Not any more! \n",
      "\n",
      "Thanks to the law I wrote and signed big companies  now have to pay a minimum of 15%.  \n",
      "\n",
      "But that’s still less than working people pay in federal taxes. \n",
      "\n",
      "It’s time to raise the corporate minimum tax to at least 21% so every big corporation finally begins to pay their fair share. \n",
      "\n",
      "I also want to end the tax breaks for Big Pharma, Big Oil, private jets, and massive executive pay! \n",
      "\n",
      "End it now! \n",
      "\n",
      "There are 1,000 billionaires in America.  \n",
      "\n",
      "You know what the average federal tax rate for these billionaires is? 8.2 percent! \n",
      "\n",
      "That’s far less than the vast majority of Americans pay.  \n",
      "\n",
      "No billionaire should pay a lower tax rate than a teacher, a sanitation worker, a nurse! \n",
      "\n",
      "That’s why I’ve proposed a minimum tax of 25% for billionaires. Just 25%. \n",
      "\n",
      "That would raise $500 Billion over the next 10 years. \n",
      "\n",
      "Imagine what that could do for America. Imagine a future with affordable child care so millions of families can get the care they need and still go to work and help grow the economy. \n",
      "\n",
      "Imagine a future with paid leave because no one should have to choose between working and taking care of yourself or a sick family member.   \n",
      "\n",
      "Imagine a future with home care and elder care so seniors and people living with disabilities can stay in their homes and family caregivers get paid what they deserve! \n",
      "\n",
      "Tonight, let’s all agree once again to stand up for seniors! \n",
      "\n",
      "Many of my Republican friends want to put Social Security on the chopping block.  \n",
      "\n",
      "If anyone here tries to cut Social Security or Medicare or raise the retirement age I will stop them! \n",
      "\n",
      "Working people who built this country pay more into Social Security than millionaires and billionaires do. It’s not fair. \n",
      "\n",
      "We have two ways to go on Social Security. \n",
      "\n",
      "Republicans will cut Social Security and give more tax cuts to the wealthy. \n",
      "\n",
      "I will protect and strengthen Social Security and make the wealthy pay their fair share! \n",
      "\n",
      "Too many corporations raise their prices to pad their profits charging you more and more for less and less. \n",
      "\n",
      "That’s why we’re cracking down on corporations that engage in price gouging or deceptive pricing from food to health care to housing. \n",
      "\n",
      "In fact, snack companies think you won’t notice when they charge you just as much for the same size bag  \n",
      "\n",
      "but with fewer chips in it. \n",
      "\n",
      "Pass Senator Bob Casey’s bill to put a stop to shrinkflation! \n",
      "\n",
      "I’m also getting rid of junk fees those hidden fees added at the end of your bills without your knowledge. My administration just announced we’re cutting credit card late fees from $32 to just $8. \n",
      "\n",
      "The banks and credit card companies don’t like it. \n",
      "\n",
      "Why? \n",
      "\n",
      "I’m saving American families $20 billion a year with all of the junk fees I’m eliminating. \n",
      "\n",
      "And I’m not stopping there. \n",
      "\n",
      "My Administration has proposed rules to make cable travel utilities and online ticket sellers tell you the total price upfront so there are no surprises. \n",
      "\n",
      "It matters. \n",
      "\n",
      "And so does this. \n",
      "\n",
      "In November, my team began serious negotiations with a bipartisan group of Senators. \n",
      "\n",
      "The result was a bipartisan bill with the toughest set of border security reforms we’ve ever seen  \n",
      "\n",
      "in this country. \n",
      "\n",
      "That bipartisan deal would hire 1,500 more border security agents and officers.  \n",
      "\n",
      "100 more immigration judges to help tackle a backload of 2 million cases. \n",
      "\n",
      "4,300 more asylum officers and new policies so they can resolve cases in 6 months instead of 6 years. \n",
      "\n",
      "100 more high-tech drug detection machines to significantly increase the ability to screen and stop vehicles from smuggling fentanyl into America. \n",
      "\n",
      "This bill would save lives and bring order to the border. \n",
      "\n",
      "It would also give me as President new emergency authority to temporarily shut down the border  when the number of migrants at the border is overwhelming.  \n",
      "\n",
      "The Border Patrol Union endorsed the bill. \n",
      "\n",
      "The Chamber of Commerce endorsed the bill. \n",
      "\n",
      "I believe that given the opportunity a majority of the House and Senate would endorse it as well. \n",
      "\n",
      "But unfortunately, politics have derailed it so far. \n",
      "\n",
      "I’m told my predecessor called Republicans in Congress and demanded they block the bill. He feels it would be a political win for me and a political loser for him. \n",
      "\n",
      "It’s not about him or me.  \n",
      "\n",
      "It’d be a winner for America! \n",
      "\n",
      "My Republican friends you owe it to the American people to get this bill done.   \n",
      "\n",
      "We need to act. \n",
      "\n",
      "And if my predecessor is watching instead of playing politics and pressuring members of Congress to block this bill, join me in telling Congress to pass it! \n",
      "\n",
      "We can do it together. But here’s what I will not do. \n",
      "\n",
      "I will not demonize immigrants saying they “poison the blood of our country” as he said in his own words. \n",
      "\n",
      "I will not separate families. \n",
      "\n",
      "I will not ban people from America because of their faith. \n",
      "\n",
      "Unlike my predecessor, on my first day in office I introduced a comprehensive plan to fix our immigration system, secure the border, and provide a pathway to citizenship for Dreamers and so much more. \n",
      "\n",
      "Because unlike my predecessor, I know who we are  \n",
      "\n",
      "as Americans. \n",
      "\n",
      "We are the only nation in the world with a heart and soul that draws from old and new. \n",
      "\n",
      "Home to Native Americans whose ancestors have been here for thousands of years. Home to people from every place on Earth. \n",
      "\n",
      "Some came freely. \n",
      "\n",
      "Some chained by force. \n",
      "\n",
      "Some when famine struck, like my ancestral family in Ireland. \n",
      "\n",
      "Some to flee persecution. \n",
      "\n",
      "Some to chase dreams that are impossible anywhere but here in America. \n",
      "\n",
      "That’s America, where we all come from somewhere, but we are all Americans. \n",
      "\n",
      "We can fight about the border, or we can fix it. I’m ready to fix it. \n",
      "\n",
      "Send me the border bill now! \n",
      "\n",
      "A transformational moment in our history happened 59 years ago today in Selma, Alabama. \n",
      "\n",
      "Hundreds of foot soldiers for justice marched across the Edmund Pettus Bridge, named after a Grand Dragon of the KKK, to claim their fundamental right to vote.  \n",
      "\n",
      "They were beaten bloodied and left for dead. \n",
      "\n",
      "Our late friend and former colleague John Lewis was at the march.  \n",
      "\n",
      "We miss him. \n",
      "\n",
      "Joining us tonight are other marchers who were there including Betty May Fikes, known as the “Voice of Selma”. \n",
      "\n",
      "A daughter of gospel singers and preachers, she sang songs of prayer and protest on that Bloody Sunday, \n",
      "\n",
      "to help shake the nation’s conscience. Five months later, the Voting Rights Act was signed into law.   \n",
      " \n",
      "\n",
      "But 59 years later, there are forces taking us back in time. \n",
      "\n",
      "Voter suppression. Election subversion. Unlimited dark money. Extreme gerrymandering.  \n",
      "\n",
      "John Lewis was a great friend to many of us here. But if you truly want to honor him and all the heroes who marched with him, then it’s time for more than just talk. \n",
      "\n",
      "Pass and send me the Freedom to Vote Act and the John Lewis Voting Rights Act! \n",
      "\n",
      "And stop denying another core value of America our diversity across American life. \n",
      "\n",
      "Banning books. \n",
      "\n",
      "It’s wrong! \n",
      "\n",
      "Instead of erasing history, let’s make history!  \n",
      "\n",
      "I want to protect other fundamental rights! \n",
      "\n",
      "Pass the Equality Act, and my message to transgender Americans: I have your back! \n",
      "\n",
      "Pass the PRO Act for workers rights! And raise the federal minimum wage because every worker has the right to earn a decent living! \n",
      "\n",
      "We are also making history by confronting the climate crisis, not denying it. \n",
      "\n",
      "I’m taking the most significant action on climate ever in the history of the world. \n",
      "\n",
      "I am cutting our carbon emissions in half by 2030. \n",
      "\n",
      "Creating tens of thousands of clean-energy jobs, like the IBEW workers building and installing 500,000 electric vehicle charging stations. \n",
      "\n",
      "Conserving 30% of America’s lands and waters  by 2030. \n",
      "\n",
      "Taking historic action on environmental justice for fence-line communities smothered by the legacy of pollution.  \n",
      "\n",
      "And patterned after the Peace Corps and Ameri Corps, I’ve launched a Climate Corps to put 20,000 young people to work at the forefront of our clean energy future. \n",
      "\n",
      "I’ll triple that number this decade. \n",
      "\n",
      "All Americans deserve the freedom to be safe, and America is safer today than when I took office. \n",
      "\n",
      "The year before I took office, murders went up 30% nationwide the biggest increase in history. \n",
      "\n",
      "That was then. \n",
      "\n",
      "Now, through my American Rescue Plan, which every Republican voted against, I’ve made the largest investment in public safety ever. \n",
      "\n",
      "Last year, the murder rate saw the sharpest decrease in history, and violent crime fell to one of the lowest levels in more than 50 years.  \n",
      "\n",
      "But we have more to do. \n",
      "\n",
      "Help cities and towns invest in more community police officers, more mental health workers, and more community violence intervention.  \n",
      "\n",
      "Give communities the tools to crack down on gun crime, retail crime, and carjacking. \n",
      "\n",
      "Keep building public trust, as I’ve been doing by taking executive action on police reform, and calling for it to be the law of the land, directing my Cabinet to review the federal classification of marijuana, and expunging thousands of convictions  for mere possession, because no one should be jailed for using or possessing marijuana! \n",
      "\n",
      "To take on crimes of domestic violence, I am ramping up federal enforcement of the Violence Against Women Act, that I proudly wrote, so we can finally end the scourge of violence against women in America!  \n",
      "\n",
      "And there’s another kind of violence I want to stop. \n",
      "\n",
      "With us tonight is Jasmine, whose 9-year-old sister Jackie was murdered with 21 classmates and teachers at her elementary school in Uvalde, Texas. \n",
      "\n",
      "Soon after it happened, Jill and I went to Uvalde and spent hours with the families. \n",
      "\n",
      "We heard their message, and so should everyone in this chamber do something. \n",
      "\n",
      "I did do something by establishing the first-ever Office of Gun Violence Prevention in the White House that Vice President Harris is leading. \n",
      "\n",
      "Meanwhile, my predecessor told the NRA he’s proud he did nothing on guns when he was President. \n",
      "\n",
      "After another school shooting in Iowa he said we should just “get over it.” \n",
      "\n",
      "I say we must stop it.  \n",
      "\n",
      "I’m proud we beat the NRA when I signed the most significant gun safety law in nearly 30 years! \n",
      "\n",
      "Now we must beat the NRA again! \n",
      "\n",
      "I’m demanding a ban on assault weapons and high-capacity magazines! \n",
      "\n",
      "Pass universal background checks! \n",
      "\n",
      "None of this violates the Second Amendment or vilifies responsible gun owners. \n",
      "\n",
      "As we manage challenges at home, we’re also managing crises abroad including in the Middle East. \n",
      "\n",
      "I know the last five months have been gut-wrenching for so many people, for the Israeli people, the Palestinian people, and so many here in America. \n",
      "\n",
      "This crisis began on October 7th with a massacre by the terrorist group Hamas. \n",
      "\n",
      "1,200 innocent people women and girls men and boys slaughtered, many enduring sexual violence. \n",
      "\n",
      "The deadliest day for the Jewish people since the Holocaust. \n",
      "\n",
      "250 hostages taken. \n",
      "\n",
      "Here in the chamber tonight are American families whose loved ones are still being held by Hamas. \n",
      "\n",
      "I pledge to all the families that we will not rest until we bring their loved ones home. \n",
      "\n",
      "We will also work around the clock to bring home Evan and Paul, Americans being unjustly detained all around the world. \n",
      "\n",
      "Israel has a right to go after Hamas. \n",
      "\n",
      "Hamas could end this conflict today by releasing the hostages, laying down arms, and surrendering those responsible for October 7th. \n",
      "\n",
      "Israel has an added burden because Hamas hides and operates among the civilian population. But Israel also has a fundamental responsibility to protect innocent civilians in Gaza. \n",
      "\n",
      "This war has taken a greater toll on innocent civilians than all previous wars in Gaza combined. \n",
      "\n",
      "More than 30,000 Palestinians have been killed. \n",
      "\n",
      "Most of whom are not Hamas. \n",
      "\n",
      "Thousands and thousands are innocent women and children. \n",
      "\n",
      "Girls and boys also orphaned. \n",
      "\n",
      "Nearly 2 million more Palestinians under bombardment or displaced. \n",
      "\n",
      "Homes destroyed, neighborhoods in rubble, cities in ruin. \n",
      "\n",
      "Families without food, water, medicine. \n",
      "\n",
      "It’s heartbreaking. \n",
      "\n",
      "We’ve been working non-stop to establish an immediate ceasefire that would last for at least six weeks. \n",
      "\n",
      "It would get the hostages home, ease the intolerable humanitarian crisis, and build toward something more enduring. \n",
      "\n",
      "The United States has been leading international efforts to get more humanitarian assistance into Gaza. \n",
      "\n",
      "Tonight, I’m directing the U.S. military to lead an emergency mission to establish a temporary pier in the Mediterranean on the Gaza coast that can receive large ships carrying food, water, medicine and temporary shelters. \n",
      "\n",
      "No U.S. boots will be on the ground. \n",
      "\n",
      "This temporary pier would enable a massive increase in the amount of humanitarian assistance getting into Gaza every day. \n",
      "\n",
      "But Israel must also do its part. \n",
      "\n",
      "Israel must allow more aid into Gaza and ensure that humanitarian workers aren’t caught in the cross fire. \n",
      "\n",
      "To the leadership of Israel I say this. \n",
      "\n",
      "Humanitarian assistance cannot be a secondary consideration or a bargaining chip. \n",
      "\n",
      "Protecting and saving innocent lives has to be a priority. \n",
      "\n",
      "As we look to the future, the only real solution is a two-state solution. \n",
      "\n",
      "I say this as a lifelong supporter of Israel and the only American president to visit Israel in wartime. \n",
      "\n",
      "There is no other path that guarantees Israel’s security and democracy. \n",
      "\n",
      "There is no other path that guarantees Palestinians can live with peace and dignity. \n",
      "\n",
      "There is no other path that guarantees peace between Israel and all of its Arab neighbors, including Saudi Arabia.  \n",
      "\n",
      "Creating stability in the Middle East also means containing the threat posed by Iran.  \n",
      "\n",
      "That’s why I built a coalition of more than a dozen countries to defend international shipping and freedom of navigation in the Red Sea. \n",
      "\n",
      "I’ve ordered strikes to degrade Houthi capabilities and defend U.S. Forces in the region. \n",
      "\n",
      "As Commander in Chief, I will not hesitate to direct further measures to protect our people and military personnel.  \n",
      "\n",
      "For years, all I’ve heard from my Republican friends and so many others is China’s on the rise and America is falling behind. \n",
      "\n",
      "They’ve got it backward. \n",
      "\n",
      "America is rising. \n",
      "\n",
      "We have the best economy in the world. \n",
      "\n",
      "Since I’ve come to office, our GDP is up. \n",
      "\n",
      "And our trade deficit with China is down to the lowest point in over a decade. \n",
      "\n",
      "We’re standing up against China’s unfair economic practices. \n",
      "\n",
      "And standing up for peace and stability across the Taiwan Strait. \n",
      "\n",
      "I’ve revitalized our partnerships and alliances in the Pacific. \n",
      "\n",
      "I’ve made sure that the most advanced American technologies can’t be used in China’s weapons. \n",
      "\n",
      "Frankly for all his tough talk on China, it never occurred to my predecessor to do that. \n",
      "\n",
      "We want competition with China, but not conflict.  \n",
      "\n",
      "And we’re in a stronger position to win the competition for the 21st Century against China or anyone else for that matter. \n",
      "\n",
      "Here at home I’ve signed over 400 bipartisan bills.  \n",
      "\n",
      "But there’s more to do to pass my Unity Agenda. \n",
      "\n",
      "Strengthen penalties on fentanyl trafficking. \n",
      "\n",
      "Pass bipartisan privacy legislation to protect our children online. \n",
      "\n",
      "Harness the promise of A.I. and protect us from its peril.  \n",
      "\n",
      "Ban A.I. voice impersonation and more! \n",
      "\n",
      "And keep our one truly sacred obligation, to train and equip those we send into harm’s way and care for them and their families when they come home, and when they don’t.  \n",
      "\n",
      "That’s why I signed the PACT Act, one of the most significant laws ever, helping millions of veterans who were exposed to toxins and who now are battling more than 100 cancers. \n",
      "\n",
      "Many of them didn’t come home. \n",
      "\n",
      "We owe them and their families. \n",
      "\n",
      "And we owe it to ourselves to keep supporting our new health research agency called ARPA-H and remind us that we can do big things like end cancer as we know it! \n",
      "\n",
      "Let me close with this. \n",
      "\n",
      "I know I may not look like it, but I’ve been around a while. \n",
      "\n",
      "And when you get to my age certain things become clearer than ever before. \n",
      "\n",
      "I know the American story. \n",
      "\n",
      "Again and again I’ve seen the contest between competing forces in the battle for the soul of our nation. \n",
      "\n",
      "Between those who want to pull America back to the past and those who want to move America into the future. \n",
      "\n",
      "My lifetime has taught me to embrace freedom and democracy. \n",
      "\n",
      "A future based on the core values that have defined America. \n",
      "\n",
      "Honesty. Decency. Dignity. Equality. \n",
      "\n",
      "To respect everyone. To give everyone a fair shot. To give hate no safe harbor.  \n",
      "\n",
      "Now some other people my age see a different story.  \n",
      "\n",
      "An American story of resentment, revenge, and retribution. \n",
      "\n",
      "That’s not me. \n",
      "\n",
      "I was born amid World War II when America stood for freedom in the world. \n",
      "\n",
      "I grew up in Scranton, Pennsylvania and Claymont, Delaware among working people who built this country. \n",
      "\n",
      "I watched in horror as two of my heroes, Dr. King and Bobby Kennedy, were assassinated and their legacies inspired me to pursue a career in service. \n",
      "\n",
      "A public defender, county councilman, elected United States Senator at 29, then Vice President, to our first Black President, now President, with our first woman Vice President. \n",
      "\n",
      "In my career I’ve been told I’m too young and I’m too old. \n",
      "\n",
      "Whether young or old, I’ve always known what endures. \n",
      "\n",
      "Our North Star. \n",
      "\n",
      "The very idea of America, that we are all created equal and deserve to be treated equally throughout our lives. \n",
      "\n",
      "We’ve never fully lived up to that idea, but we’ve never walked away from it either. \n",
      "\n",
      "And I won’t walk away from it now. \n",
      "\n",
      "My fellow Americans the issue facing our nation isn’t how old we are it’s how old our ideas are? \n",
      "\n",
      "Hate, anger, revenge, retribution are among the oldest of ideas. \n",
      "\n",
      "But you can’t lead America with ancient ideas that only take us back. \n",
      "\n",
      "To lead America, the land of possibilities, you need a vision for the future of what America can and should be. \n",
      "\n",
      "Tonight you’ve heard mine. \n",
      "\n",
      "I see a future where we defend democracy not diminish it. \n",
      "\n",
      "I see a future where we restore the right to choose and protect other freedoms not take them away. \n",
      "\n",
      "I see a future where the middle class finally has a fair shot and the wealthy finally have to pay their fair share in taxes. \n",
      "\n",
      "I see a future where we save the planet from the climate crisis and our country from gun violence. \n",
      "\n",
      "Above all, I see a future for all Americans! \n",
      "\n",
      "I see a country for all Americans! \n",
      "\n",
      "And I will always be a president for all Americans! \n",
      "\n",
      "Because I believe in America! \n",
      "\n",
      "I believe in you the American people. \n",
      "\n",
      "You’re the reason I’ve never been more optimistic about our future! \n",
      "\n",
      "So let’s build that future together! \n",
      "\n",
      "Let’s remember who we are! \n",
      "\n",
      "We are the United States of America. \n",
      "\n",
      "There is nothing beyond our capacity when we act together! \n",
      "\n",
      "May God bless you all. \n",
      "\n",
      "May God protect our troops.\n",
      "\n",
      "###\n"
     ]
    }
   ],
   "source": [
    "print(files)"
   ]
  },
  {
   "cell_type": "markdown",
   "metadata": {
    "id": "YW1AMPZUo6R8"
   },
   "source": [
    "#### **2. Split the Data inside the files**"
   ]
  },
  {
   "cell_type": "code",
   "execution_count": null,
   "metadata": {
    "id": "_vaiFCqiqB8h"
   },
   "outputs": [],
   "source": [
    "text_splitter = CharacterTextSplitter(\n",
    "    chunk_size = 1000,\n",
    "    chunk_overlap = 200,\n",
    "    length_function = len\n",
    ")"
   ]
  },
  {
   "cell_type": "markdown",
   "metadata": {
    "id": "uByIFI2VrJwQ"
   },
   "source": [
    "#### **3. Create the split / segment of the documents**"
   ]
  },
  {
   "cell_type": "code",
   "execution_count": null,
   "metadata": {
    "id": "mLym5160rPIq"
   },
   "outputs": [],
   "source": [
    "texts = text_splitter.create_documents([files])"
   ]
  },
  {
   "cell_type": "markdown",
   "metadata": {
    "id": "nIS60iUXrd5K"
   },
   "source": [
    "##### **Output of Text Split**"
   ]
  },
  {
   "cell_type": "code",
   "execution_count": null,
   "metadata": {
    "colab": {
     "base_uri": "https://localhost:8080/"
    },
    "id": "mp6kJ-ktrf4Z",
    "outputId": "07598f81-4bf9-48c6-ca29-577d988185f0"
   },
   "outputs": [
    {
     "data": {
      "text/plain": [
       "48"
      ]
     },
     "execution_count": 7,
     "metadata": {},
     "output_type": "execute_result"
    }
   ],
   "source": [
    "len(texts)"
   ]
  },
  {
   "cell_type": "markdown",
   "metadata": {
    "id": "o65x9EvnsK1t"
   },
   "source": [
    "## **3. Embeddings Formation**"
   ]
  },
  {
   "cell_type": "markdown",
   "metadata": {
    "id": "b6LlgRGps11U"
   },
   "source": [
    "**HuggingFaceEmbedding: https://python.langchain.com/api_reference/huggingface/embeddings/langchain_huggingface.embeddings.huggingface.HuggingFaceEmbeddings.html**"
   ]
  },
  {
   "cell_type": "markdown",
   "metadata": {
    "id": "f4PuFwKWsUIu"
   },
   "source": [
    "* **OpenAI Embedding Models**"
   ]
  },
  {
   "cell_type": "code",
   "execution_count": null,
   "metadata": {
    "id": "J2qMBP0YyRPU"
   },
   "outputs": [],
   "source": [
    "from google.colab import userdata\n",
    "\n",
    "os.environ[\"OPENAI_API_KEY\"] = userdata.get(\"GPTKEY\")"
   ]
  },
  {
   "cell_type": "code",
   "execution_count": null,
   "metadata": {
    "id": "X_9lpK8cyuxu"
   },
   "outputs": [],
   "source": [
    "openai_embedding = OpenAIEmbeddings(model = \"text-embedding-3-small\")"
   ]
  },
  {
   "cell_type": "markdown",
   "metadata": {
    "id": "gfM0chQ6zgmt"
   },
   "source": [
    "#### **Database Formation**"
   ]
  },
  {
   "cell_type": "code",
   "execution_count": null,
   "metadata": {
    "id": "t1r0Vf1my3qZ"
   },
   "outputs": [],
   "source": [
    "# Initalize the vector storage\n",
    "vector_storage = Chroma(\n",
    "    collection_name = \"23rdmarch_dev\",\n",
    "    embedding_function = openai_embedding\n",
    ")"
   ]
  },
  {
   "cell_type": "markdown",
   "metadata": {
    "id": "swtQB8qYtCHE"
   },
   "source": [
    "* **HuggingFaceEmbeddings**"
   ]
  },
  {
   "cell_type": "code",
   "execution_count": null,
   "metadata": {
    "colab": {
     "base_uri": "https://localhost:8080/"
    },
    "id": "Xmz2l-5EtGVC",
    "outputId": "2b7b36ba-07e0-4314-9874-1b429abbcaa7"
   },
   "outputs": [
    {
     "name": "stdout",
     "output_type": "stream",
     "text": [
      "Requirement already satisfied: langchain_huggingface in /usr/local/lib/python3.11/dist-packages (0.1.2)\n",
      "Requirement already satisfied: huggingface-hub>=0.23.0 in /usr/local/lib/python3.11/dist-packages (from langchain_huggingface) (0.29.3)\n",
      "Requirement already satisfied: langchain-core<0.4.0,>=0.3.15 in /usr/local/lib/python3.11/dist-packages (from langchain_huggingface) (0.3.45)\n",
      "Requirement already satisfied: sentence-transformers>=2.6.0 in /usr/local/lib/python3.11/dist-packages (from langchain_huggingface) (3.4.1)\n",
      "Requirement already satisfied: tokenizers>=0.19.1 in /usr/local/lib/python3.11/dist-packages (from langchain_huggingface) (0.21.1)\n",
      "Requirement already satisfied: transformers>=4.39.0 in /usr/local/lib/python3.11/dist-packages (from langchain_huggingface) (4.49.0)\n",
      "Requirement already satisfied: filelock in /usr/local/lib/python3.11/dist-packages (from huggingface-hub>=0.23.0->langchain_huggingface) (3.18.0)\n",
      "Requirement already satisfied: fsspec>=2023.5.0 in /usr/local/lib/python3.11/dist-packages (from huggingface-hub>=0.23.0->langchain_huggingface) (2025.3.0)\n",
      "Requirement already satisfied: packaging>=20.9 in /usr/local/lib/python3.11/dist-packages (from huggingface-hub>=0.23.0->langchain_huggingface) (24.2)\n",
      "Requirement already satisfied: pyyaml>=5.1 in /usr/local/lib/python3.11/dist-packages (from huggingface-hub>=0.23.0->langchain_huggingface) (6.0.2)\n",
      "Requirement already satisfied: requests in /usr/local/lib/python3.11/dist-packages (from huggingface-hub>=0.23.0->langchain_huggingface) (2.32.3)\n",
      "Requirement already satisfied: tqdm>=4.42.1 in /usr/local/lib/python3.11/dist-packages (from huggingface-hub>=0.23.0->langchain_huggingface) (4.67.1)\n",
      "Requirement already satisfied: typing-extensions>=3.7.4.3 in /usr/local/lib/python3.11/dist-packages (from huggingface-hub>=0.23.0->langchain_huggingface) (4.12.2)\n",
      "Requirement already satisfied: langsmith<0.4,>=0.1.125 in /usr/local/lib/python3.11/dist-packages (from langchain-core<0.4.0,>=0.3.15->langchain_huggingface) (0.3.15)\n",
      "Requirement already satisfied: tenacity!=8.4.0,<10.0.0,>=8.1.0 in /usr/local/lib/python3.11/dist-packages (from langchain-core<0.4.0,>=0.3.15->langchain_huggingface) (9.0.0)\n",
      "Requirement already satisfied: jsonpatch<2.0,>=1.33 in /usr/local/lib/python3.11/dist-packages (from langchain-core<0.4.0,>=0.3.15->langchain_huggingface) (1.33)\n",
      "Requirement already satisfied: pydantic<3.0.0,>=2.5.2 in /usr/local/lib/python3.11/dist-packages (from langchain-core<0.4.0,>=0.3.15->langchain_huggingface) (2.10.6)\n",
      "Requirement already satisfied: torch>=1.11.0 in /usr/local/lib/python3.11/dist-packages (from sentence-transformers>=2.6.0->langchain_huggingface) (2.6.0+cu124)\n",
      "Requirement already satisfied: scikit-learn in /usr/local/lib/python3.11/dist-packages (from sentence-transformers>=2.6.0->langchain_huggingface) (1.6.1)\n",
      "Requirement already satisfied: scipy in /usr/local/lib/python3.11/dist-packages (from sentence-transformers>=2.6.0->langchain_huggingface) (1.14.1)\n",
      "Requirement already satisfied: Pillow in /usr/local/lib/python3.11/dist-packages (from sentence-transformers>=2.6.0->langchain_huggingface) (11.1.0)\n",
      "Requirement already satisfied: numpy>=1.17 in /usr/local/lib/python3.11/dist-packages (from transformers>=4.39.0->langchain_huggingface) (1.26.4)\n",
      "Requirement already satisfied: regex!=2019.12.17 in /usr/local/lib/python3.11/dist-packages (from transformers>=4.39.0->langchain_huggingface) (2024.11.6)\n",
      "Requirement already satisfied: safetensors>=0.4.1 in /usr/local/lib/python3.11/dist-packages (from transformers>=4.39.0->langchain_huggingface) (0.5.3)\n",
      "Requirement already satisfied: jsonpointer>=1.9 in /usr/local/lib/python3.11/dist-packages (from jsonpatch<2.0,>=1.33->langchain-core<0.4.0,>=0.3.15->langchain_huggingface) (3.0.0)\n",
      "Requirement already satisfied: httpx<1,>=0.23.0 in /usr/local/lib/python3.11/dist-packages (from langsmith<0.4,>=0.1.125->langchain-core<0.4.0,>=0.3.15->langchain_huggingface) (0.28.1)\n",
      "Requirement already satisfied: orjson<4.0.0,>=3.9.14 in /usr/local/lib/python3.11/dist-packages (from langsmith<0.4,>=0.1.125->langchain-core<0.4.0,>=0.3.15->langchain_huggingface) (3.10.15)\n",
      "Requirement already satisfied: requests-toolbelt<2.0.0,>=1.0.0 in /usr/local/lib/python3.11/dist-packages (from langsmith<0.4,>=0.1.125->langchain-core<0.4.0,>=0.3.15->langchain_huggingface) (1.0.0)\n",
      "Requirement already satisfied: zstandard<0.24.0,>=0.23.0 in /usr/local/lib/python3.11/dist-packages (from langsmith<0.4,>=0.1.125->langchain-core<0.4.0,>=0.3.15->langchain_huggingface) (0.23.0)\n",
      "Requirement already satisfied: annotated-types>=0.6.0 in /usr/local/lib/python3.11/dist-packages (from pydantic<3.0.0,>=2.5.2->langchain-core<0.4.0,>=0.3.15->langchain_huggingface) (0.7.0)\n",
      "Requirement already satisfied: pydantic-core==2.27.2 in /usr/local/lib/python3.11/dist-packages (from pydantic<3.0.0,>=2.5.2->langchain-core<0.4.0,>=0.3.15->langchain_huggingface) (2.27.2)\n",
      "Requirement already satisfied: charset-normalizer<4,>=2 in /usr/local/lib/python3.11/dist-packages (from requests->huggingface-hub>=0.23.0->langchain_huggingface) (3.4.1)\n",
      "Requirement already satisfied: idna<4,>=2.5 in /usr/local/lib/python3.11/dist-packages (from requests->huggingface-hub>=0.23.0->langchain_huggingface) (3.10)\n",
      "Requirement already satisfied: urllib3<3,>=1.21.1 in /usr/local/lib/python3.11/dist-packages (from requests->huggingface-hub>=0.23.0->langchain_huggingface) (2.3.0)\n",
      "Requirement already satisfied: certifi>=2017.4.17 in /usr/local/lib/python3.11/dist-packages (from requests->huggingface-hub>=0.23.0->langchain_huggingface) (2025.1.31)\n",
      "Requirement already satisfied: networkx in /usr/local/lib/python3.11/dist-packages (from torch>=1.11.0->sentence-transformers>=2.6.0->langchain_huggingface) (3.4.2)\n",
      "Requirement already satisfied: jinja2 in /usr/local/lib/python3.11/dist-packages (from torch>=1.11.0->sentence-transformers>=2.6.0->langchain_huggingface) (3.1.6)\n",
      "Requirement already satisfied: nvidia-cuda-nvrtc-cu12==12.4.127 in /usr/local/lib/python3.11/dist-packages (from torch>=1.11.0->sentence-transformers>=2.6.0->langchain_huggingface) (12.4.127)\n",
      "Requirement already satisfied: nvidia-cuda-runtime-cu12==12.4.127 in /usr/local/lib/python3.11/dist-packages (from torch>=1.11.0->sentence-transformers>=2.6.0->langchain_huggingface) (12.4.127)\n",
      "Requirement already satisfied: nvidia-cuda-cupti-cu12==12.4.127 in /usr/local/lib/python3.11/dist-packages (from torch>=1.11.0->sentence-transformers>=2.6.0->langchain_huggingface) (12.4.127)\n",
      "Requirement already satisfied: nvidia-cudnn-cu12==9.1.0.70 in /usr/local/lib/python3.11/dist-packages (from torch>=1.11.0->sentence-transformers>=2.6.0->langchain_huggingface) (9.1.0.70)\n",
      "Requirement already satisfied: nvidia-cublas-cu12==12.4.5.8 in /usr/local/lib/python3.11/dist-packages (from torch>=1.11.0->sentence-transformers>=2.6.0->langchain_huggingface) (12.4.5.8)\n",
      "Requirement already satisfied: nvidia-cufft-cu12==11.2.1.3 in /usr/local/lib/python3.11/dist-packages (from torch>=1.11.0->sentence-transformers>=2.6.0->langchain_huggingface) (11.2.1.3)\n",
      "Requirement already satisfied: nvidia-curand-cu12==10.3.5.147 in /usr/local/lib/python3.11/dist-packages (from torch>=1.11.0->sentence-transformers>=2.6.0->langchain_huggingface) (10.3.5.147)\n",
      "Requirement already satisfied: nvidia-cusolver-cu12==11.6.1.9 in /usr/local/lib/python3.11/dist-packages (from torch>=1.11.0->sentence-transformers>=2.6.0->langchain_huggingface) (11.6.1.9)\n",
      "Requirement already satisfied: nvidia-cusparse-cu12==12.3.1.170 in /usr/local/lib/python3.11/dist-packages (from torch>=1.11.0->sentence-transformers>=2.6.0->langchain_huggingface) (12.3.1.170)\n",
      "Requirement already satisfied: nvidia-cusparselt-cu12==0.6.2 in /usr/local/lib/python3.11/dist-packages (from torch>=1.11.0->sentence-transformers>=2.6.0->langchain_huggingface) (0.6.2)\n",
      "Requirement already satisfied: nvidia-nccl-cu12==2.21.5 in /usr/local/lib/python3.11/dist-packages (from torch>=1.11.0->sentence-transformers>=2.6.0->langchain_huggingface) (2.21.5)\n",
      "Requirement already satisfied: nvidia-nvtx-cu12==12.4.127 in /usr/local/lib/python3.11/dist-packages (from torch>=1.11.0->sentence-transformers>=2.6.0->langchain_huggingface) (12.4.127)\n",
      "Requirement already satisfied: nvidia-nvjitlink-cu12==12.4.127 in /usr/local/lib/python3.11/dist-packages (from torch>=1.11.0->sentence-transformers>=2.6.0->langchain_huggingface) (12.4.127)\n",
      "Requirement already satisfied: triton==3.2.0 in /usr/local/lib/python3.11/dist-packages (from torch>=1.11.0->sentence-transformers>=2.6.0->langchain_huggingface) (3.2.0)\n",
      "Requirement already satisfied: sympy==1.13.1 in /usr/local/lib/python3.11/dist-packages (from torch>=1.11.0->sentence-transformers>=2.6.0->langchain_huggingface) (1.13.1)\n",
      "Requirement already satisfied: mpmath<1.4,>=1.1.0 in /usr/local/lib/python3.11/dist-packages (from sympy==1.13.1->torch>=1.11.0->sentence-transformers>=2.6.0->langchain_huggingface) (1.3.0)\n",
      "Requirement already satisfied: joblib>=1.2.0 in /usr/local/lib/python3.11/dist-packages (from scikit-learn->sentence-transformers>=2.6.0->langchain_huggingface) (1.4.2)\n",
      "Requirement already satisfied: threadpoolctl>=3.1.0 in /usr/local/lib/python3.11/dist-packages (from scikit-learn->sentence-transformers>=2.6.0->langchain_huggingface) (3.6.0)\n",
      "Requirement already satisfied: anyio in /usr/local/lib/python3.11/dist-packages (from httpx<1,>=0.23.0->langsmith<0.4,>=0.1.125->langchain-core<0.4.0,>=0.3.15->langchain_huggingface) (4.9.0)\n",
      "Requirement already satisfied: httpcore==1.* in /usr/local/lib/python3.11/dist-packages (from httpx<1,>=0.23.0->langsmith<0.4,>=0.1.125->langchain-core<0.4.0,>=0.3.15->langchain_huggingface) (1.0.7)\n",
      "Requirement already satisfied: h11<0.15,>=0.13 in /usr/local/lib/python3.11/dist-packages (from httpcore==1.*->httpx<1,>=0.23.0->langsmith<0.4,>=0.1.125->langchain-core<0.4.0,>=0.3.15->langchain_huggingface) (0.14.0)\n",
      "Requirement already satisfied: MarkupSafe>=2.0 in /usr/local/lib/python3.11/dist-packages (from jinja2->torch>=1.11.0->sentence-transformers>=2.6.0->langchain_huggingface) (3.0.2)\n",
      "Requirement already satisfied: sniffio>=1.1 in /usr/local/lib/python3.11/dist-packages (from anyio->httpx<1,>=0.23.0->langsmith<0.4,>=0.1.125->langchain-core<0.4.0,>=0.3.15->langchain_huggingface) (1.3.1)\n"
     ]
    }
   ],
   "source": [
    "!pip install langchain_huggingface"
   ]
  },
  {
   "cell_type": "code",
   "execution_count": null,
   "metadata": {
    "id": "iVYqbb-5tEWF"
   },
   "outputs": [],
   "source": [
    "# from langchain_huggingface import HuggingFaceEmbeddings\n",
    "\n",
    "# model_name = \"all-MiniLM-L6-v2\"\n",
    "# hf_embedding_model = HuggingFaceEmbeddings(\n",
    "#     model_name=model_name,\n",
    "# )"
   ]
  },
  {
   "cell_type": "markdown",
   "metadata": {
    "id": "nRw4sQK0zlZT"
   },
   "source": [
    "#### **Need to load the data into DB**"
   ]
  },
  {
   "cell_type": "code",
   "execution_count": null,
   "metadata": {
    "id": "5S1AIYlozoAi"
   },
   "outputs": [],
   "source": [
    "storage_id = vector_storage.add_documents(texts)"
   ]
  },
  {
   "cell_type": "code",
   "execution_count": null,
   "metadata": {
    "colab": {
     "base_uri": "https://localhost:8080/"
    },
    "id": "31Rwxbm_0KK1",
    "outputId": "c0276a8f-35a8-4a30-9bfb-70d80debeab6"
   },
   "outputs": [
    {
     "data": {
      "text/plain": [
       "['555e375b-71c2-424f-804f-05ad1c803712',\n",
       " '781be9ef-fe19-4698-abcd-872cf5d51486',\n",
       " '379ec5d3-e689-47f9-b942-cd689fc316c2',\n",
       " '58d6349c-87a8-41f1-a7db-8b57c15722b2',\n",
       " '121ae344-cd96-4211-838e-92d758e74372',\n",
       " '602d2c4d-6ff7-44a1-aee7-c378e53605ae',\n",
       " '545c5c47-5eac-486c-979f-794419ead7ba',\n",
       " '07a05170-da99-4c4a-80ef-76aae5b906f0',\n",
       " 'ca12923c-ad0f-4a46-9434-2cd7f3222368',\n",
       " '052b54eb-1709-4e57-b542-e99742304998',\n",
       " '46dfcf28-a600-4443-92e9-fa01d1730977',\n",
       " '6a84224e-005e-4160-aef8-70dc0664b04b',\n",
       " '9122fe99-aa87-4734-a4d0-89d94a4f7bef',\n",
       " '3ae76937-db89-4a19-967a-aa9ab91218ef',\n",
       " 'c331d01d-d760-4e19-a8aa-7edaecb025ab',\n",
       " '3700ab68-ec7c-4ecb-873d-21482f14675a',\n",
       " '285697fe-017e-4c6b-b6d1-48e647cfb029',\n",
       " '7c2b7fe0-d17d-4f60-bf73-505ec0d94864',\n",
       " '950461f4-1df9-409a-8bbd-8198aede53a0',\n",
       " '7d374281-aeff-42f3-869c-3d15f5297047',\n",
       " 'b99f2040-f605-4c43-81a9-670a4ce015cb',\n",
       " '64299042-6a76-415b-b4be-9835c3e9d1ba',\n",
       " 'c9c19352-2299-4961-a7da-e5febba28915',\n",
       " '30277484-e5e3-470f-8684-6a304fe46589',\n",
       " 'c43d0537-67c8-4c32-bd95-6384b95d1bdb',\n",
       " 'bc806b54-2aa1-42fe-8324-24e40fabe84e',\n",
       " '4d1dff6a-e199-4041-be79-1d2469240742',\n",
       " 'd516bbab-80db-417e-953d-26a326bb5923',\n",
       " 'cb9bf4f5-356b-48c9-a93a-b83d71d1c442',\n",
       " 'b941d926-1bb1-4feb-b664-5907f4b0a65f',\n",
       " 'e92945c6-2ed5-47e4-be01-83cb571f04cd',\n",
       " '76e1a047-4482-40a0-ad21-bca54acfdb4c',\n",
       " '5644b36c-90bd-4ba7-9615-fee0b4650087',\n",
       " '2dab0cce-972e-4d6b-96d4-80ccb41021c7',\n",
       " '6bea3fdf-9835-4567-b3af-157b77b536aa',\n",
       " '283f3c6f-2df8-45b7-b3bd-c08237426b1c',\n",
       " 'eb7adf88-d3d1-4fa1-ae4e-f96f0840007e',\n",
       " 'a473f442-7b8b-4189-bc1f-4c990443f75c',\n",
       " '0156ef60-89ff-47ab-b2fe-1a6a27c23de6',\n",
       " 'dbc760c6-94b6-450c-9416-dc8ba3bf57f2',\n",
       " 'ace112ff-75cc-4244-b189-784a0ceeb7f0',\n",
       " 'cc08f852-0147-4076-93c8-f3e3e43ff32b',\n",
       " 'af79003a-4146-4999-a538-8b935864798b',\n",
       " '43f96811-6e62-49aa-8b7e-2f0dd0ad08e2',\n",
       " '7ccc0a71-de6f-4c1f-b6f1-e89f9213c4b2',\n",
       " '93b8e5a0-9a5b-4663-b5f4-b6f38474cf84',\n",
       " '43e111c3-b987-43cd-8cf4-c94f607040a7',\n",
       " '1fd7e7b6-a759-495e-8d27-a77c0839cac0']"
      ]
     },
     "execution_count": 14,
     "metadata": {},
     "output_type": "execute_result"
    }
   ],
   "source": [
    "storage_id"
   ]
  },
  {
   "cell_type": "markdown",
   "metadata": {
    "id": "erl72Cdq0ZVD"
   },
   "source": [
    "#### **Sematic Searching from Vector Database**"
   ]
  },
  {
   "cell_type": "code",
   "execution_count": null,
   "metadata": {
    "id": "4ypC0a5g0ee3"
   },
   "outputs": [],
   "source": [
    "results = vector_storage.similarity_search(\n",
    "    \"Who invaded Ukraine?\",\n",
    "    k = 2 # I want the top 3 results\n",
    ")"
   ]
  },
  {
   "cell_type": "code",
   "execution_count": null,
   "metadata": {
    "colab": {
     "base_uri": "https://localhost:8080/"
    },
    "id": "krjxFK9b2r1g",
    "outputId": "f5a9e8f6-d533-4eaf-9ed9-7e7964247a74"
   },
   "outputs": [
    {
     "data": {
      "text/plain": [
       "[Document(id='781be9ef-fe19-4698-abcd-872cf5d51486', metadata={}, page_content='And yes, my purpose tonight is to both wake up this Congress, and alert the American people that this is no ordinary moment either. \\n\\nNot since President Lincoln and the Civil War have freedom and democracy been under assault here at home as they are today. \\n\\nWhat makes our moment rare is that freedom and democracy are under attack, both at home and overseas, at the very same time. \\n\\nOverseas, Putin of Russia is on the march, invading Ukraine and sowing chaos throughout Europe and beyond. \\n\\nIf anybody in this room thinks Putin will stop at Ukraine, I assure you, he will not. \\n\\nBut Ukraine can stop Putin if we stand with Ukraine and provide the weapons it needs to defend itself. That is all Ukraine is asking. They are not asking for American soldiers. \\n\\nIn fact, there are no American soldiers at war in Ukraine. And I am determined to keep it that way. \\n\\nBut now assistance for Ukraine is being blocked by those who want us to walk away from our leadership in the world.'),\n",
       " Document(id='58d6349c-87a8-41f1-a7db-8b57c15722b2', metadata={}, page_content='Mr. Prime Minister, welcome to NATO, the strongest military alliance the world has ever known. \\n\\nI say this to Congress: we must stand up to Putin. Send me the Bipartisan National Security Bill. \\n\\nHistory is watching. \\n\\nIf the United States walks away now, it will put Ukraine at risk. \\n\\nEurope at risk. The free world at risk, emboldening others who wish to do us harm. \\n \\n \\n\\nMy message to President Putin is simple.  \\n\\nWe will not walk away. We will not bow down. I will not bow down. \\n\\nHistory is watching, just like history watched three years ago on January 6th. \\n\\nInsurrectionists stormed this very Capitol and placed a dagger at the throat of American democracy. \\n\\nMany of you were here on that darkest of days. \\n\\nWe all saw with our own eyes these insurrectionists were not patriots. \\n \\n\\nThey had come to stop the peaceful transfer of power and to overturn the will of the people.')]"
      ]
     },
     "execution_count": 16,
     "metadata": {},
     "output_type": "execute_result"
    }
   ],
   "source": [
    "results"
   ]
  },
  {
   "cell_type": "code",
   "execution_count": null,
   "metadata": {
    "colab": {
     "base_uri": "https://localhost:8080/"
    },
    "id": "Tx9iPDvd08iS",
    "outputId": "37b53809-0006-4e17-fa0d-57614f012877"
   },
   "outputs": [
    {
     "name": "stdout",
     "output_type": "stream",
     "text": [
      "* ID: 781be9ef-fe19-4698-abcd-872cf5d51486\n",
      "CONTENT:And yes, my purpose tonight is to both wake up this Congress, and alert the American people that this is no ordinary moment either. \n",
      "\n",
      "Not since President Lincoln and the Civil War have freedom and democracy been under assault here at home as they are today. \n",
      "\n",
      "What makes our moment rare is that freedom and democracy are under attack, both at home and overseas, at the very same time. \n",
      "\n",
      "Overseas, Putin of Russia is on the march, invading Ukraine and sowing chaos throughout Europe and beyond. \n",
      "\n",
      "If anybody in this room thinks Putin will stop at Ukraine, I assure you, he will not. \n",
      "\n",
      "But Ukraine can stop Putin if we stand with Ukraine and provide the weapons it needs to defend itself. That is all Ukraine is asking. They are not asking for American soldiers. \n",
      "\n",
      "In fact, there are no American soldiers at war in Ukraine. And I am determined to keep it that way. \n",
      "\n",
      "But now assistance for Ukraine is being blocked by those who want us to walk away from our leadership in the world.\n",
      "----------------------------------------\n",
      "* ID: 58d6349c-87a8-41f1-a7db-8b57c15722b2\n",
      "CONTENT:Mr. Prime Minister, welcome to NATO, the strongest military alliance the world has ever known. \n",
      "\n",
      "I say this to Congress: we must stand up to Putin. Send me the Bipartisan National Security Bill. \n",
      "\n",
      "History is watching. \n",
      "\n",
      "If the United States walks away now, it will put Ukraine at risk. \n",
      "\n",
      "Europe at risk. The free world at risk, emboldening others who wish to do us harm. \n",
      " \n",
      " \n",
      "\n",
      "My message to President Putin is simple.  \n",
      "\n",
      "We will not walk away. We will not bow down. I will not bow down. \n",
      "\n",
      "History is watching, just like history watched three years ago on January 6th. \n",
      "\n",
      "Insurrectionists stormed this very Capitol and placed a dagger at the throat of American democracy. \n",
      "\n",
      "Many of you were here on that darkest of days. \n",
      "\n",
      "We all saw with our own eyes these insurrectionists were not patriots. \n",
      " \n",
      "\n",
      "They had come to stop the peaceful transfer of power and to overturn the will of the people.\n",
      "----------------------------------------\n"
     ]
    }
   ],
   "source": [
    "for x in results:\n",
    "  print(f\"* ID: {x.id}\\nCONTENT:{x.page_content}\\n----------------------------------------\")"
   ]
  },
  {
   "cell_type": "markdown",
   "metadata": {
    "id": "g7zVHztu2IeR"
   },
   "source": [
    "<hr>"
   ]
  },
  {
   "cell_type": "markdown",
   "metadata": {
    "id": "b3lshtzR2Kxz"
   },
   "source": [
    "## **4. Setting up the retrievals**"
   ]
  },
  {
   "cell_type": "markdown",
   "metadata": {
    "id": "fTA_SyTR2nXO"
   },
   "source": [
    "### **a. Set up function for converting this data**"
   ]
  },
  {
   "cell_type": "code",
   "execution_count": null,
   "metadata": {
    "id": "Nx8KRg8k23lo"
   },
   "outputs": [],
   "source": [
    "def format_docs(docs):\n",
    "  return \"\\n\".join(x.page_content for x in docs)"
   ]
  },
  {
   "cell_type": "code",
   "execution_count": null,
   "metadata": {
    "colab": {
     "base_uri": "https://localhost:8080/",
     "height": 123
    },
    "id": "OzWT0NoR3AMN",
    "outputId": "4479c14b-7d51-47e2-f991-eebee5a5ba5a"
   },
   "outputs": [
    {
     "data": {
      "application/vnd.google.colaboratory.intrinsic+json": {
       "type": "string"
      },
      "text/plain": [
       "'And yes, my purpose tonight is to both wake up this Congress, and alert the American people that this is no ordinary moment either. \\n\\nNot since President Lincoln and the Civil War have freedom and democracy been under assault here at home as they are today. \\n\\nWhat makes our moment rare is that freedom and democracy are under attack, both at home and overseas, at the very same time. \\n\\nOverseas, Putin of Russia is on the march, invading Ukraine and sowing chaos throughout Europe and beyond. \\n\\nIf anybody in this room thinks Putin will stop at Ukraine, I assure you, he will not. \\n\\nBut Ukraine can stop Putin if we stand with Ukraine and provide the weapons it needs to defend itself. That is all Ukraine is asking. They are not asking for American soldiers. \\n\\nIn fact, there are no American soldiers at war in Ukraine. And I am determined to keep it that way. \\n\\nBut now assistance for Ukraine is being blocked by those who want us to walk away from our leadership in the world.\\nMr. Prime Minister, welcome to NATO, the strongest military alliance the world has ever known. \\n\\nI say this to Congress: we must stand up to Putin. Send me the Bipartisan National Security Bill. \\n\\nHistory is watching. \\n\\nIf the United States walks away now, it will put Ukraine at risk. \\n\\nEurope at risk. The free world at risk, emboldening others who wish to do us harm. \\n \\n \\n\\nMy message to President Putin is simple.  \\n\\nWe will not walk away. We will not bow down. I will not bow down. \\n\\nHistory is watching, just like history watched three years ago on January 6th. \\n\\nInsurrectionists stormed this very Capitol and placed a dagger at the throat of American democracy. \\n\\nMany of you were here on that darkest of days. \\n\\nWe all saw with our own eyes these insurrectionists were not patriots. \\n \\n\\nThey had come to stop the peaceful transfer of power and to overturn the will of the people.'"
      ]
     },
     "execution_count": 19,
     "metadata": {},
     "output_type": "execute_result"
    }
   ],
   "source": [
    "format_docs(results)"
   ]
  },
  {
   "cell_type": "markdown",
   "metadata": {
    "id": "PY8sQvTs3M-R"
   },
   "source": [
    "### **b. Setup a Retriever**"
   ]
  },
  {
   "cell_type": "code",
   "execution_count": null,
   "metadata": {
    "id": "GK2MS9ih3VRI"
   },
   "outputs": [],
   "source": [
    "retriever = vector_storage.as_retriever()"
   ]
  },
  {
   "cell_type": "markdown",
   "metadata": {
    "id": "KZ4v-sRn4pD5"
   },
   "source": [
    "### **c. LLM Instance**"
   ]
  },
  {
   "cell_type": "markdown",
   "metadata": {
    "id": "FH17EFl56ajj"
   },
   "source": [
    "#### **OpenAI**"
   ]
  },
  {
   "cell_type": "code",
   "execution_count": null,
   "metadata": {
    "id": "5HEESYPU4tR5"
   },
   "outputs": [],
   "source": [
    "llm = ChatOpenAI(model = \"gpt-4o-mini\")"
   ]
  },
  {
   "cell_type": "markdown",
   "metadata": {
    "id": "S2G3iih-6d4j"
   },
   "source": [
    "#### **HuggingFace**"
   ]
  },
  {
   "cell_type": "code",
   "execution_count": null,
   "metadata": {
    "id": "dWRKEVmI5Int"
   },
   "outputs": [],
   "source": [
    "os.environ[\"HUGGINGFACEHUB_API_TOKEN\"] = userdata.get(\"HuggingFace\")"
   ]
  },
  {
   "cell_type": "code",
   "execution_count": null,
   "metadata": {
    "colab": {
     "base_uri": "https://localhost:8080/"
    },
    "id": "w8FYR1Ni6DIX",
    "outputId": "24ffaee3-6217-4322-bfdb-e313268f82c1"
   },
   "outputs": [
    {
     "name": "stdout",
     "output_type": "stream",
     "text": [
      "Requirement already satisfied: langchain-huggingface in /usr/local/lib/python3.11/dist-packages (0.1.2)\n",
      "Requirement already satisfied: huggingface-hub>=0.23.0 in /usr/local/lib/python3.11/dist-packages (from langchain-huggingface) (0.29.3)\n",
      "Requirement already satisfied: langchain-core<0.4.0,>=0.3.15 in /usr/local/lib/python3.11/dist-packages (from langchain-huggingface) (0.3.45)\n",
      "Requirement already satisfied: sentence-transformers>=2.6.0 in /usr/local/lib/python3.11/dist-packages (from langchain-huggingface) (3.4.1)\n",
      "Requirement already satisfied: tokenizers>=0.19.1 in /usr/local/lib/python3.11/dist-packages (from langchain-huggingface) (0.21.1)\n",
      "Requirement already satisfied: transformers>=4.39.0 in /usr/local/lib/python3.11/dist-packages (from langchain-huggingface) (4.49.0)\n",
      "Requirement already satisfied: filelock in /usr/local/lib/python3.11/dist-packages (from huggingface-hub>=0.23.0->langchain-huggingface) (3.18.0)\n",
      "Requirement already satisfied: fsspec>=2023.5.0 in /usr/local/lib/python3.11/dist-packages (from huggingface-hub>=0.23.0->langchain-huggingface) (2025.3.0)\n",
      "Requirement already satisfied: packaging>=20.9 in /usr/local/lib/python3.11/dist-packages (from huggingface-hub>=0.23.0->langchain-huggingface) (24.2)\n",
      "Requirement already satisfied: pyyaml>=5.1 in /usr/local/lib/python3.11/dist-packages (from huggingface-hub>=0.23.0->langchain-huggingface) (6.0.2)\n",
      "Requirement already satisfied: requests in /usr/local/lib/python3.11/dist-packages (from huggingface-hub>=0.23.0->langchain-huggingface) (2.32.3)\n",
      "Requirement already satisfied: tqdm>=4.42.1 in /usr/local/lib/python3.11/dist-packages (from huggingface-hub>=0.23.0->langchain-huggingface) (4.67.1)\n",
      "Requirement already satisfied: typing-extensions>=3.7.4.3 in /usr/local/lib/python3.11/dist-packages (from huggingface-hub>=0.23.0->langchain-huggingface) (4.12.2)\n",
      "Requirement already satisfied: langsmith<0.4,>=0.1.125 in /usr/local/lib/python3.11/dist-packages (from langchain-core<0.4.0,>=0.3.15->langchain-huggingface) (0.3.15)\n",
      "Requirement already satisfied: tenacity!=8.4.0,<10.0.0,>=8.1.0 in /usr/local/lib/python3.11/dist-packages (from langchain-core<0.4.0,>=0.3.15->langchain-huggingface) (9.0.0)\n",
      "Requirement already satisfied: jsonpatch<2.0,>=1.33 in /usr/local/lib/python3.11/dist-packages (from langchain-core<0.4.0,>=0.3.15->langchain-huggingface) (1.33)\n",
      "Requirement already satisfied: pydantic<3.0.0,>=2.5.2 in /usr/local/lib/python3.11/dist-packages (from langchain-core<0.4.0,>=0.3.15->langchain-huggingface) (2.10.6)\n",
      "Requirement already satisfied: torch>=1.11.0 in /usr/local/lib/python3.11/dist-packages (from sentence-transformers>=2.6.0->langchain-huggingface) (2.6.0+cu124)\n",
      "Requirement already satisfied: scikit-learn in /usr/local/lib/python3.11/dist-packages (from sentence-transformers>=2.6.0->langchain-huggingface) (1.6.1)\n",
      "Requirement already satisfied: scipy in /usr/local/lib/python3.11/dist-packages (from sentence-transformers>=2.6.0->langchain-huggingface) (1.14.1)\n",
      "Requirement already satisfied: Pillow in /usr/local/lib/python3.11/dist-packages (from sentence-transformers>=2.6.0->langchain-huggingface) (11.1.0)\n",
      "Requirement already satisfied: numpy>=1.17 in /usr/local/lib/python3.11/dist-packages (from transformers>=4.39.0->langchain-huggingface) (1.26.4)\n",
      "Requirement already satisfied: regex!=2019.12.17 in /usr/local/lib/python3.11/dist-packages (from transformers>=4.39.0->langchain-huggingface) (2024.11.6)\n",
      "Requirement already satisfied: safetensors>=0.4.1 in /usr/local/lib/python3.11/dist-packages (from transformers>=4.39.0->langchain-huggingface) (0.5.3)\n",
      "Requirement already satisfied: jsonpointer>=1.9 in /usr/local/lib/python3.11/dist-packages (from jsonpatch<2.0,>=1.33->langchain-core<0.4.0,>=0.3.15->langchain-huggingface) (3.0.0)\n",
      "Requirement already satisfied: httpx<1,>=0.23.0 in /usr/local/lib/python3.11/dist-packages (from langsmith<0.4,>=0.1.125->langchain-core<0.4.0,>=0.3.15->langchain-huggingface) (0.28.1)\n",
      "Requirement already satisfied: orjson<4.0.0,>=3.9.14 in /usr/local/lib/python3.11/dist-packages (from langsmith<0.4,>=0.1.125->langchain-core<0.4.0,>=0.3.15->langchain-huggingface) (3.10.15)\n",
      "Requirement already satisfied: requests-toolbelt<2.0.0,>=1.0.0 in /usr/local/lib/python3.11/dist-packages (from langsmith<0.4,>=0.1.125->langchain-core<0.4.0,>=0.3.15->langchain-huggingface) (1.0.0)\n",
      "Requirement already satisfied: zstandard<0.24.0,>=0.23.0 in /usr/local/lib/python3.11/dist-packages (from langsmith<0.4,>=0.1.125->langchain-core<0.4.0,>=0.3.15->langchain-huggingface) (0.23.0)\n",
      "Requirement already satisfied: annotated-types>=0.6.0 in /usr/local/lib/python3.11/dist-packages (from pydantic<3.0.0,>=2.5.2->langchain-core<0.4.0,>=0.3.15->langchain-huggingface) (0.7.0)\n",
      "Requirement already satisfied: pydantic-core==2.27.2 in /usr/local/lib/python3.11/dist-packages (from pydantic<3.0.0,>=2.5.2->langchain-core<0.4.0,>=0.3.15->langchain-huggingface) (2.27.2)\n",
      "Requirement already satisfied: charset-normalizer<4,>=2 in /usr/local/lib/python3.11/dist-packages (from requests->huggingface-hub>=0.23.0->langchain-huggingface) (3.4.1)\n",
      "Requirement already satisfied: idna<4,>=2.5 in /usr/local/lib/python3.11/dist-packages (from requests->huggingface-hub>=0.23.0->langchain-huggingface) (3.10)\n",
      "Requirement already satisfied: urllib3<3,>=1.21.1 in /usr/local/lib/python3.11/dist-packages (from requests->huggingface-hub>=0.23.0->langchain-huggingface) (2.3.0)\n",
      "Requirement already satisfied: certifi>=2017.4.17 in /usr/local/lib/python3.11/dist-packages (from requests->huggingface-hub>=0.23.0->langchain-huggingface) (2025.1.31)\n",
      "Requirement already satisfied: networkx in /usr/local/lib/python3.11/dist-packages (from torch>=1.11.0->sentence-transformers>=2.6.0->langchain-huggingface) (3.4.2)\n",
      "Requirement already satisfied: jinja2 in /usr/local/lib/python3.11/dist-packages (from torch>=1.11.0->sentence-transformers>=2.6.0->langchain-huggingface) (3.1.6)\n",
      "Requirement already satisfied: nvidia-cuda-nvrtc-cu12==12.4.127 in /usr/local/lib/python3.11/dist-packages (from torch>=1.11.0->sentence-transformers>=2.6.0->langchain-huggingface) (12.4.127)\n",
      "Requirement already satisfied: nvidia-cuda-runtime-cu12==12.4.127 in /usr/local/lib/python3.11/dist-packages (from torch>=1.11.0->sentence-transformers>=2.6.0->langchain-huggingface) (12.4.127)\n",
      "Requirement already satisfied: nvidia-cuda-cupti-cu12==12.4.127 in /usr/local/lib/python3.11/dist-packages (from torch>=1.11.0->sentence-transformers>=2.6.0->langchain-huggingface) (12.4.127)\n",
      "Requirement already satisfied: nvidia-cudnn-cu12==9.1.0.70 in /usr/local/lib/python3.11/dist-packages (from torch>=1.11.0->sentence-transformers>=2.6.0->langchain-huggingface) (9.1.0.70)\n",
      "Requirement already satisfied: nvidia-cublas-cu12==12.4.5.8 in /usr/local/lib/python3.11/dist-packages (from torch>=1.11.0->sentence-transformers>=2.6.0->langchain-huggingface) (12.4.5.8)\n",
      "Requirement already satisfied: nvidia-cufft-cu12==11.2.1.3 in /usr/local/lib/python3.11/dist-packages (from torch>=1.11.0->sentence-transformers>=2.6.0->langchain-huggingface) (11.2.1.3)\n",
      "Requirement already satisfied: nvidia-curand-cu12==10.3.5.147 in /usr/local/lib/python3.11/dist-packages (from torch>=1.11.0->sentence-transformers>=2.6.0->langchain-huggingface) (10.3.5.147)\n",
      "Requirement already satisfied: nvidia-cusolver-cu12==11.6.1.9 in /usr/local/lib/python3.11/dist-packages (from torch>=1.11.0->sentence-transformers>=2.6.0->langchain-huggingface) (11.6.1.9)\n",
      "Requirement already satisfied: nvidia-cusparse-cu12==12.3.1.170 in /usr/local/lib/python3.11/dist-packages (from torch>=1.11.0->sentence-transformers>=2.6.0->langchain-huggingface) (12.3.1.170)\n",
      "Requirement already satisfied: nvidia-cusparselt-cu12==0.6.2 in /usr/local/lib/python3.11/dist-packages (from torch>=1.11.0->sentence-transformers>=2.6.0->langchain-huggingface) (0.6.2)\n",
      "Requirement already satisfied: nvidia-nccl-cu12==2.21.5 in /usr/local/lib/python3.11/dist-packages (from torch>=1.11.0->sentence-transformers>=2.6.0->langchain-huggingface) (2.21.5)\n",
      "Requirement already satisfied: nvidia-nvtx-cu12==12.4.127 in /usr/local/lib/python3.11/dist-packages (from torch>=1.11.0->sentence-transformers>=2.6.0->langchain-huggingface) (12.4.127)\n",
      "Requirement already satisfied: nvidia-nvjitlink-cu12==12.4.127 in /usr/local/lib/python3.11/dist-packages (from torch>=1.11.0->sentence-transformers>=2.6.0->langchain-huggingface) (12.4.127)\n",
      "Requirement already satisfied: triton==3.2.0 in /usr/local/lib/python3.11/dist-packages (from torch>=1.11.0->sentence-transformers>=2.6.0->langchain-huggingface) (3.2.0)\n",
      "Requirement already satisfied: sympy==1.13.1 in /usr/local/lib/python3.11/dist-packages (from torch>=1.11.0->sentence-transformers>=2.6.0->langchain-huggingface) (1.13.1)\n",
      "Requirement already satisfied: mpmath<1.4,>=1.1.0 in /usr/local/lib/python3.11/dist-packages (from sympy==1.13.1->torch>=1.11.0->sentence-transformers>=2.6.0->langchain-huggingface) (1.3.0)\n",
      "Requirement already satisfied: joblib>=1.2.0 in /usr/local/lib/python3.11/dist-packages (from scikit-learn->sentence-transformers>=2.6.0->langchain-huggingface) (1.4.2)\n",
      "Requirement already satisfied: threadpoolctl>=3.1.0 in /usr/local/lib/python3.11/dist-packages (from scikit-learn->sentence-transformers>=2.6.0->langchain-huggingface) (3.6.0)\n",
      "Requirement already satisfied: anyio in /usr/local/lib/python3.11/dist-packages (from httpx<1,>=0.23.0->langsmith<0.4,>=0.1.125->langchain-core<0.4.0,>=0.3.15->langchain-huggingface) (4.9.0)\n",
      "Requirement already satisfied: httpcore==1.* in /usr/local/lib/python3.11/dist-packages (from httpx<1,>=0.23.0->langsmith<0.4,>=0.1.125->langchain-core<0.4.0,>=0.3.15->langchain-huggingface) (1.0.7)\n",
      "Requirement already satisfied: h11<0.15,>=0.13 in /usr/local/lib/python3.11/dist-packages (from httpcore==1.*->httpx<1,>=0.23.0->langsmith<0.4,>=0.1.125->langchain-core<0.4.0,>=0.3.15->langchain-huggingface) (0.14.0)\n",
      "Requirement already satisfied: MarkupSafe>=2.0 in /usr/local/lib/python3.11/dist-packages (from jinja2->torch>=1.11.0->sentence-transformers>=2.6.0->langchain-huggingface) (3.0.2)\n",
      "Requirement already satisfied: sniffio>=1.1 in /usr/local/lib/python3.11/dist-packages (from anyio->httpx<1,>=0.23.0->langsmith<0.4,>=0.1.125->langchain-core<0.4.0,>=0.3.15->langchain-huggingface) (1.3.1)\n"
     ]
    }
   ],
   "source": [
    "!pip install --upgrade langchain-huggingface"
   ]
  },
  {
   "cell_type": "code",
   "execution_count": null,
   "metadata": {
    "id": "qzfNrQp36BUl"
   },
   "outputs": [],
   "source": [
    "from langchain_community.llms.huggingface_hub import HuggingFaceHub"
   ]
  },
  {
   "cell_type": "code",
   "execution_count": null,
   "metadata": {
    "colab": {
     "base_uri": "https://localhost:8080/"
    },
    "id": "8wiTBcn95Eaj",
    "outputId": "574a374b-5e42-4832-e3ba-1b4e63963be1"
   },
   "outputs": [
    {
     "name": "stderr",
     "output_type": "stream",
     "text": [
      "<ipython-input-25-ec47079711f2>:1: LangChainDeprecationWarning: The class `HuggingFaceHub` was deprecated in LangChain 0.0.21 and will be removed in 1.0. An updated version of the class exists in the :class:`~langchain-huggingface package and should be used instead. To use it run `pip install -U :class:`~langchain-huggingface` and import as `from :class:`~langchain_huggingface import HuggingFaceEndpoint``.\n",
      "  llmHF = HuggingFaceHub(\n"
     ]
    }
   ],
   "source": [
    "llmHF = HuggingFaceHub(\n",
    "    repo_id=\"HuggingFaceH4/zephyr-7b-beta\",\n",
    "    task=\"text-generation\"\n",
    ")"
   ]
  },
  {
   "cell_type": "code",
   "execution_count": null,
   "metadata": {
    "colab": {
     "base_uri": "https://localhost:8080/"
    },
    "id": "Ua7l1iXc7WMY",
    "outputId": "fe7be70e-73ff-4695-ab5b-fa2a540468d9"
   },
   "outputs": [
    {
     "data": {
      "text/plain": [
       "HuggingFaceHub(client=<InferenceClient(model='HuggingFaceH4/zephyr-7b-beta', timeout=None)>, repo_id='HuggingFaceH4/zephyr-7b-beta', task='text-generation')"
      ]
     },
     "execution_count": 26,
     "metadata": {},
     "output_type": "execute_result"
    }
   ],
   "source": [
    "llmHF"
   ]
  },
  {
   "cell_type": "markdown",
   "metadata": {
    "id": "neT_NMz56iLG"
   },
   "source": [
    "### **d. Prompt Instance**"
   ]
  },
  {
   "cell_type": "markdown",
   "metadata": {
    "id": "WzEqCvjrqa7K"
   },
   "source": [
    "**PDF Loading Part**"
   ]
  },
  {
   "cell_type": "code",
   "execution_count": null,
   "metadata": {
    "id": "vogkPJmn6ur1"
   },
   "outputs": [],
   "source": [
    "template = \"\"\"\n",
    "Use the context provided to answer the question at the end. If you don't know the answer, just say that you don't know, don't try to make up an answer.\n",
    "Use three sentences maximum and keep the answer concise.\n",
    "\n",
    "context: {context}\n",
    "\n",
    "question: {query}\n",
    "\n",
    "answer:\n",
    "\"\"\""
   ]
  },
  {
   "cell_type": "code",
   "execution_count": null,
   "metadata": {
    "id": "_cfuobrF63zD"
   },
   "outputs": [],
   "source": [
    "custom_template = PromptTemplate.from_template(template)"
   ]
  },
  {
   "cell_type": "code",
   "execution_count": null,
   "metadata": {
    "colab": {
     "base_uri": "https://localhost:8080/"
    },
    "id": "cNKCzw7k7IUB",
    "outputId": "75b15c7e-c659-4fb6-e76b-983bebd2a5ba"
   },
   "outputs": [
    {
     "data": {
      "text/plain": [
       "PromptTemplate(input_variables=['context', 'query'], input_types={}, partial_variables={}, template=\"\\nUse the context provided to answer the question at the end. If you don't know the answer, just say that you don't know, don't try to make up an answer.\\nUse three sentences maximum and keep the answer concise.\\n\\ncontext: {context}\\n\\nquestion: {query}\\n\\nanswer:\\n\")"
      ]
     },
     "execution_count": 29,
     "metadata": {},
     "output_type": "execute_result"
    }
   ],
   "source": [
    "custom_template"
   ]
  },
  {
   "cell_type": "markdown",
   "metadata": {
    "id": "uwvkOs6Z7pjG"
   },
   "source": [
    "**We have a template, Model, a Database**\n",
    "  * **Can we connect**"
   ]
  },
  {
   "cell_type": "code",
   "execution_count": null,
   "metadata": {
    "id": "F3eO27gd7x7o"
   },
   "outputs": [],
   "source": [
    "rag_chain = (\n",
    "    {\"context\": retriever, \"query\": RunnablePassthrough()}\n",
    "    | custom_template\n",
    "    | llm\n",
    "    | StrOutputParser()\n",
    ")"
   ]
  },
  {
   "cell_type": "markdown",
   "metadata": {
    "id": "8iqUZo9f8sPN"
   },
   "source": [
    "## **Test**"
   ]
  },
  {
   "cell_type": "code",
   "execution_count": null,
   "metadata": {
    "colab": {
     "base_uri": "https://localhost:8080/",
     "height": 36
    },
    "id": "AgHLa9Ea8t4U",
    "outputId": "fbcd2bf5-6e5d-419d-eae8-017730b69707"
   },
   "outputs": [
    {
     "data": {
      "application/vnd.google.colaboratory.intrinsic+json": {
       "type": "string"
      },
      "text/plain": [
       "\"I don't know.\""
      ]
     },
     "execution_count": 31,
     "metadata": {},
     "output_type": "execute_result"
    }
   ],
   "source": [
    "rag_chain.invoke(\"who is president Modi?\")"
   ]
  },
  {
   "cell_type": "markdown",
   "metadata": {
    "id": "Yua9uTd89pf3"
   },
   "source": [
    "## **Interface**"
   ]
  },
  {
   "cell_type": "code",
   "execution_count": null,
   "metadata": {
    "colab": {
     "base_uri": "https://localhost:8080/"
    },
    "id": "go0NtmaI-14b",
    "outputId": "ed48799a-7a20-4c17-98fb-d5f623c863a4"
   },
   "outputs": [
    {
     "name": "stdout",
     "output_type": "stream",
     "text": [
      "Requirement already satisfied: gradio in /usr/local/lib/python3.11/dist-packages (5.22.0)\n",
      "Requirement already satisfied: aiofiles<24.0,>=22.0 in /usr/local/lib/python3.11/dist-packages (from gradio) (23.2.1)\n",
      "Requirement already satisfied: anyio<5.0,>=3.0 in /usr/local/lib/python3.11/dist-packages (from gradio) (4.9.0)\n",
      "Requirement already satisfied: fastapi<1.0,>=0.115.2 in /usr/local/lib/python3.11/dist-packages (from gradio) (0.115.11)\n",
      "Requirement already satisfied: ffmpy in /usr/local/lib/python3.11/dist-packages (from gradio) (0.5.0)\n",
      "Requirement already satisfied: gradio-client==1.8.0 in /usr/local/lib/python3.11/dist-packages (from gradio) (1.8.0)\n",
      "Requirement already satisfied: groovy~=0.1 in /usr/local/lib/python3.11/dist-packages (from gradio) (0.1.2)\n",
      "Requirement already satisfied: httpx>=0.24.1 in /usr/local/lib/python3.11/dist-packages (from gradio) (0.28.1)\n",
      "Requirement already satisfied: huggingface-hub>=0.28.1 in /usr/local/lib/python3.11/dist-packages (from gradio) (0.29.3)\n",
      "Requirement already satisfied: jinja2<4.0 in /usr/local/lib/python3.11/dist-packages (from gradio) (3.1.6)\n",
      "Requirement already satisfied: markupsafe<4.0,>=2.0 in /usr/local/lib/python3.11/dist-packages (from gradio) (3.0.2)\n",
      "Requirement already satisfied: numpy<3.0,>=1.0 in /usr/local/lib/python3.11/dist-packages (from gradio) (1.26.4)\n",
      "Requirement already satisfied: orjson~=3.0 in /usr/local/lib/python3.11/dist-packages (from gradio) (3.10.15)\n",
      "Requirement already satisfied: packaging in /usr/local/lib/python3.11/dist-packages (from gradio) (24.2)\n",
      "Requirement already satisfied: pandas<3.0,>=1.0 in /usr/local/lib/python3.11/dist-packages (from gradio) (2.2.3)\n",
      "Requirement already satisfied: pillow<12.0,>=8.0 in /usr/local/lib/python3.11/dist-packages (from gradio) (11.1.0)\n",
      "Requirement already satisfied: pydantic>=2.0 in /usr/local/lib/python3.11/dist-packages (from gradio) (2.10.6)\n",
      "Requirement already satisfied: pydub in /usr/local/lib/python3.11/dist-packages (from gradio) (0.25.1)\n",
      "Requirement already satisfied: python-multipart>=0.0.18 in /usr/local/lib/python3.11/dist-packages (from gradio) (0.0.20)\n",
      "Requirement already satisfied: pyyaml<7.0,>=5.0 in /usr/local/lib/python3.11/dist-packages (from gradio) (6.0.2)\n",
      "Requirement already satisfied: ruff>=0.9.3 in /usr/local/lib/python3.11/dist-packages (from gradio) (0.11.2)\n",
      "Requirement already satisfied: safehttpx<0.2.0,>=0.1.6 in /usr/local/lib/python3.11/dist-packages (from gradio) (0.1.6)\n",
      "Requirement already satisfied: semantic-version~=2.0 in /usr/local/lib/python3.11/dist-packages (from gradio) (2.10.0)\n",
      "Requirement already satisfied: starlette<1.0,>=0.40.0 in /usr/local/lib/python3.11/dist-packages (from gradio) (0.46.1)\n",
      "Requirement already satisfied: tomlkit<0.14.0,>=0.12.0 in /usr/local/lib/python3.11/dist-packages (from gradio) (0.13.2)\n",
      "Requirement already satisfied: typer<1.0,>=0.12 in /usr/local/lib/python3.11/dist-packages (from gradio) (0.15.2)\n",
      "Requirement already satisfied: typing-extensions~=4.0 in /usr/local/lib/python3.11/dist-packages (from gradio) (4.12.2)\n",
      "Requirement already satisfied: uvicorn>=0.14.0 in /usr/local/lib/python3.11/dist-packages (from gradio) (0.34.0)\n",
      "Requirement already satisfied: fsspec in /usr/local/lib/python3.11/dist-packages (from gradio-client==1.8.0->gradio) (2025.3.0)\n",
      "Requirement already satisfied: websockets<16.0,>=10.0 in /usr/local/lib/python3.11/dist-packages (from gradio-client==1.8.0->gradio) (14.2)\n",
      "Requirement already satisfied: idna>=2.8 in /usr/local/lib/python3.11/dist-packages (from anyio<5.0,>=3.0->gradio) (3.10)\n",
      "Requirement already satisfied: sniffio>=1.1 in /usr/local/lib/python3.11/dist-packages (from anyio<5.0,>=3.0->gradio) (1.3.1)\n",
      "Requirement already satisfied: certifi in /usr/local/lib/python3.11/dist-packages (from httpx>=0.24.1->gradio) (2025.1.31)\n",
      "Requirement already satisfied: httpcore==1.* in /usr/local/lib/python3.11/dist-packages (from httpx>=0.24.1->gradio) (1.0.7)\n",
      "Requirement already satisfied: h11<0.15,>=0.13 in /usr/local/lib/python3.11/dist-packages (from httpcore==1.*->httpx>=0.24.1->gradio) (0.14.0)\n",
      "Requirement already satisfied: filelock in /usr/local/lib/python3.11/dist-packages (from huggingface-hub>=0.28.1->gradio) (3.18.0)\n",
      "Requirement already satisfied: requests in /usr/local/lib/python3.11/dist-packages (from huggingface-hub>=0.28.1->gradio) (2.32.3)\n",
      "Requirement already satisfied: tqdm>=4.42.1 in /usr/local/lib/python3.11/dist-packages (from huggingface-hub>=0.28.1->gradio) (4.67.1)\n",
      "Requirement already satisfied: python-dateutil>=2.8.2 in /usr/local/lib/python3.11/dist-packages (from pandas<3.0,>=1.0->gradio) (2.8.2)\n",
      "Requirement already satisfied: pytz>=2020.1 in /usr/local/lib/python3.11/dist-packages (from pandas<3.0,>=1.0->gradio) (2025.1)\n",
      "Requirement already satisfied: tzdata>=2022.7 in /usr/local/lib/python3.11/dist-packages (from pandas<3.0,>=1.0->gradio) (2025.1)\n",
      "Requirement already satisfied: annotated-types>=0.6.0 in /usr/local/lib/python3.11/dist-packages (from pydantic>=2.0->gradio) (0.7.0)\n",
      "Requirement already satisfied: pydantic-core==2.27.2 in /usr/local/lib/python3.11/dist-packages (from pydantic>=2.0->gradio) (2.27.2)\n",
      "Requirement already satisfied: click>=8.0.0 in /usr/local/lib/python3.11/dist-packages (from typer<1.0,>=0.12->gradio) (8.1.8)\n",
      "Requirement already satisfied: shellingham>=1.3.0 in /usr/local/lib/python3.11/dist-packages (from typer<1.0,>=0.12->gradio) (1.5.4)\n",
      "Requirement already satisfied: rich>=10.11.0 in /usr/local/lib/python3.11/dist-packages (from typer<1.0,>=0.12->gradio) (13.9.4)\n",
      "Requirement already satisfied: six>=1.5 in /usr/local/lib/python3.11/dist-packages (from python-dateutil>=2.8.2->pandas<3.0,>=1.0->gradio) (1.17.0)\n",
      "Requirement already satisfied: markdown-it-py>=2.2.0 in /usr/local/lib/python3.11/dist-packages (from rich>=10.11.0->typer<1.0,>=0.12->gradio) (3.0.0)\n",
      "Requirement already satisfied: pygments<3.0.0,>=2.13.0 in /usr/local/lib/python3.11/dist-packages (from rich>=10.11.0->typer<1.0,>=0.12->gradio) (2.18.0)\n",
      "Requirement already satisfied: charset-normalizer<4,>=2 in /usr/local/lib/python3.11/dist-packages (from requests->huggingface-hub>=0.28.1->gradio) (3.4.1)\n",
      "Requirement already satisfied: urllib3<3,>=1.21.1 in /usr/local/lib/python3.11/dist-packages (from requests->huggingface-hub>=0.28.1->gradio) (2.3.0)\n",
      "Requirement already satisfied: mdurl~=0.1 in /usr/local/lib/python3.11/dist-packages (from markdown-it-py>=2.2.0->rich>=10.11.0->typer<1.0,>=0.12->gradio) (0.1.2)\n"
     ]
    }
   ],
   "source": [
    "pip install --upgrade gradio"
   ]
  },
  {
   "cell_type": "code",
   "execution_count": null,
   "metadata": {},
   "outputs": [],
   "source": [
    "import gradio as gr"
   ]
  },
  {
   "cell_type": "code",
   "execution_count": null,
   "metadata": {
    "id": "p5oIHuCa-Py7"
   },
   "outputs": [],
   "source": [
    "# General function for collection of response from LLM\n",
    "def generate_response(question):\n",
    "  response = rag_chain.invoke(question)\n",
    "  return response"
   ]
  },
  {
   "cell_type": "code",
   "execution_count": null,
   "metadata": {
    "id": "lL39hTjm9121"
   },
   "outputs": [],
   "source": [
    "iface = gr.Interface(\n",
    "    fn=generate_response,\n",
    "    inputs=gr.Textbox(lines=2, placeholder=\"Enter your question here...\"),\n",
    "    outputs=\"text\",\n",
    "    title=\"RAG Based Question Answering\",\n",
    "    description=\"Ask questions based on the provided document.\",\n",
    ")"
   ]
  },
  {
   "cell_type": "code",
   "execution_count": null,
   "metadata": {
    "id": "GnsSeoYG-0Ar"
   },
   "outputs": [],
   "source": [
    "iface.launch()"
   ]
  }
 ],
 "metadata": {
  "colab": {
   "provenance": []
  },
  "kernelspec": {
   "display_name": "Python 3 (ipykernel)",
   "language": "python",
   "name": "python3"
  },
  "language_info": {
   "codemirror_mode": {
    "name": "ipython",
    "version": 3
   },
   "file_extension": ".py",
   "mimetype": "text/x-python",
   "name": "python",
   "nbconvert_exporter": "python",
   "pygments_lexer": "ipython3",
   "version": "3.11.7"
  }
 },
 "nbformat": 4,
 "nbformat_minor": 4
}
